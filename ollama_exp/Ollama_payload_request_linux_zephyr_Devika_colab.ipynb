{
  "cells": [
    {
      "cell_type": "code",
      "execution_count": 21,
      "metadata": {
        "id": "LAk5SCleCiQS"
      },
      "outputs": [],
      "source": [
        "import os"
      ]
    },
    {
      "cell_type": "markdown",
      "metadata": {
        "id": "vaZEZ-qRK2yu"
      },
      "source": [
        "# Installing Ollama"
      ]
    },
    {
      "cell_type": "code",
      "execution_count": null,
      "metadata": {
        "colab": {
          "base_uri": "https://localhost:8080/"
        },
        "id": "a90tGMBjJNWM",
        "outputId": "2555fcee-ca82-42bc-a221-8189bc0249fa"
      },
      "outputs": [],
      "source": [
        "# prompt: install Ollama to run zephyr model on colab\n",
        "\n",
        "!pip install ollama\n",
        "\n"
      ]
    },
    {
      "cell_type": "code",
      "execution_count": null,
      "metadata": {
        "colab": {
          "base_uri": "https://localhost:8080/"
        },
        "id": "3wKsl4noJrqe",
        "outputId": "44da2375-1e9e-47ba-eb45-1209a46ca332"
      },
      "outputs": [],
      "source": [
        "! sudo apt-get install -y pciutils"
      ]
    },
    {
      "cell_type": "code",
      "execution_count": null,
      "metadata": {
        "colab": {
          "base_uri": "https://localhost:8080/"
        },
        "id": "E2t4J_BOJyIS",
        "outputId": "cd49eea9-ec67-4964-b2bb-e106aaafb728"
      },
      "outputs": [],
      "source": [
        "!curl -fsSL https://ollama.com/install.sh | sh #one line command for Ollama installation"
      ]
    },
    {
      "cell_type": "code",
      "execution_count": 10,
      "metadata": {
        "id": "XwhZWgYJgw3L"
      },
      "outputs": [],
      "source": [
        "#This is the way to start the process thread\n",
        "#<Response [200]> - successful execution\n",
        "def ollama():\n",
        "    os.environ['OLLAMA_HOST'] = '127.0.0.1:11434'\n",
        "    os.environ['OLLAMA_ORIGINS'] = '*'\n",
        "    os.subprocess.Popen([\"ollama\", \"serve\"])\n",
        "ollama_thread = threading.Thread(target=ollama)\n",
        "ollama_thread.start()"
      ]
    },
    {
      "cell_type": "code",
      "execution_count": null,
      "metadata": {
        "id": "D_VMJrgrj-Nt"
      },
      "outputs": [],
      "source": [
        "!ollama\n",
        "!ollama serve ## This is fead as subprocess request"
      ]
    },
    {
      "cell_type": "code",
      "execution_count": null,
      "metadata": {
        "colab": {
          "base_uri": "https://localhost:8080/"
        },
        "id": "a_-NHSlbSVV2",
        "outputId": "f614dd93-d37c-429b-87d5-b76777f2eafe"
      },
      "outputs": [],
      "source": [
        "!ollama run zephyr"
      ]
    },
    {
      "cell_type": "code",
      "execution_count": 19,
      "metadata": {
        "id": "MlRlzauMX8cN"
      },
      "outputs": [],
      "source": [
        "ollama_thread = threading.Thread(target=ollama)\n",
        "ollama_thread.start()"
      ]
    },
    {
      "cell_type": "code",
      "execution_count": 18,
      "metadata": {
        "id": "-4wpLMlNRwll"
      },
      "outputs": [],
      "source": [
        "prompt = \"\"\"\n",
        "What is AI?\n",
        "Can you explain in three paragraphs?\n",
        "\"\"\""
      ]
    },
    {
      "cell_type": "code",
      "execution_count": null,
      "metadata": {
        "id": "X6HACwlfr9Mn"
      },
      "outputs": [],
      "source": [
        "url = 'http://localhost:11434/api/chat'\n",
        "payload = {\n",
        "    \"model\": \"zephyr\",\n",
        "    \"temperature\": 0.6,\n",
        "    \"stream\": False,\n",
        "    \"messages\": [\n",
        "        {\"role\": \"system\", \"content\": \"You are an AI assistant!\"},\n",
        "        {\"role\": \"user\", \"content\": prompt}\n",
        "    ]\n",
        "}\n",
        "\n",
        "response = requests.post(url, json=payload)\n",
        "message_str = response.content.decode('utf-8')\n",
        "message_dict = json.loads(message_str)\n",
        "print(message_dict['message']['content'])"
      ]
    },
    {
      "cell_type": "code",
      "execution_count": 42,
      "metadata": {
        "colab": {
          "base_uri": "https://localhost:8080/"
        },
        "id": "32KMA8c6bCPH",
        "outputId": "f83b2ba5-c13f-465b-a231-444851ba5840"
      },
      "outputs": [
        {
          "data": {
            "text/plain": [
              "<Response [200]>"
            ]
          },
          "execution_count": 42,
          "metadata": {},
          "output_type": "execute_result"
        }
      ],
      "source": [
        "response"
      ]
    },
    {
      "cell_type": "code",
      "execution_count": null,
      "metadata": {
        "colab": {
          "base_uri": "https://localhost:8080/"
        },
        "id": "kQYTyC2PTRTs",
        "outputId": "9bd24758-c4a7-4162-b7ac-bc57d7b350b4"
      },
      "outputs": [],
      "source": [
        "!hostname -I  # Get IP address\n",
        "!curl ipecho.net/plain  # Get public IP address,\n",
        "!sudo lsof -i -P -n | grep LISTEN  # List open ports\n"
      ]
    }
  ],
  "metadata": {
    "accelerator": "GPU",
    "colab": {
      "gpuType": "T4",
      "provenance": []
    },
    "kernelspec": {
      "display_name": "Python 3",
      "name": "python3"
    },
    "language_info": {
      "name": "python"
    }
  },
  "nbformat": 4,
  "nbformat_minor": 0
}
