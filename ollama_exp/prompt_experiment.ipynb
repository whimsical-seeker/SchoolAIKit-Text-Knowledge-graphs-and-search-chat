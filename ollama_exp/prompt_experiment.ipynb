{
 "cells": [
  {
   "cell_type": "code",
   "execution_count": null,
   "metadata": {},
   "outputs": [],
   "source": [
    "import sys\n",
    "from yachalk import chalk\n",
    "#sys.path.append(\"..\")\n",
    "import os\n",
    "print(os.getcwd())\n",
    "import json\n",
    "import client as client\n",
    "\n",
    "import uuid"
   ]
  },
  {
   "cell_type": "code",
   "execution_count": 7,
   "metadata": {},
   "outputs": [],
   "source": [
    "SYS_PROMPT = (\n",
    "    \"You are a network graph maker who extracts terms and their relations from \"\n",
    "    \"You are provided with a context chunk (delimited by ```) Your task is to extract the ontology \"\n",
    "    \"of scientific and mathematical terms mentioned in the given context. These terms should represent the key concepts as per the context. \\n\"\n",
    "    \"Thought 1: While traversing through each sentence, Think about the key terms mentioned in it.\\n\"\n",
    "        \"\\tTerms may include discovery,invention,event,concept, \\n\"\n",
    "        \"\\tscientists, condition,experiments etc.\\n\"\n",
    "        \"\\tTerms should be as atomistic as possible ignore object, document, organisation.\\n\\n\"\n",
    "    \"Thought 2: Think about how these terms can have one on one relation with other terms.\\n\"\n",
    "        \"\\tTerms that are mentioned in the same sentence or the same paragraph are typically related to each other.\\n\"\n",
    "        \"\\tTerms can be related to terms coming from interconnected areas of math, physics and chemistry. \\n\\n\"\n",
    "    \"Thought 3: Find out the relation between each such related pair of terms. \\n\\n\"\n",
    "    \"Format your output as a list of json. Each element of the list contains a pair of terms\"\n",
    "    \"and the relation between them, like the follwing: \\n\"\n",
    "    \"[\\n\"\n",
    "    \"   {\\n\"\n",
    "    '       \"node_1\": \"A concept from extracted ontology\",\\n'\n",
    "    '       \"node_2\": \"A related concept from extracted ontology\",\\n'\n",
    "    '       \"edge\": \"relationship between the two concepts, node_1 and node_2 in one or two lines.\"\\n'\n",
    "    \"   }, {...}\\n\"\n",
    "    \"]\"\n",
    ")\n"
   ]
  },
  {
   "cell_type": "code",
   "execution_count": 5,
   "metadata": {},
   "outputs": [],
   "source": [
    "SYS_PROMPT = (\n",
    "        \"Your task is extract the key concepts (and non personal entities) mentioned in the given context. \"\n",
    "        \"Extract only the most important and atomistic concepts, if  needed break the concepts down to the simpler concepts.\"\n",
    "        \"Categorize the concepts in one of the following categories: \"\n",
    "        \"[event, concept, scientific terms, discovery,invention, scientists, condition,experiment]\\n\"\n",
    "        \"Format your output as a list of json with the following format:\\n\"\n",
    "        \"[\\n\"\n",
    "        \"   {\\n\"\n",
    "        '       \"entity\": The Concept,\\n'\n",
    "        '       \"importance\": The concontextual importance of the concept on a scale of 1 to 5 (5 being the highest),\\n'\n",
    "        '       \"category\": The Type of Concept,\\n'\n",
    "        \"   }, \\n\"\n",
    "        \"{ }, \\n\"\n",
    "        \"]\\n\"\n",
    "    )"
   ]
  },
  {
   "cell_type": "markdown",
   "metadata": {},
   "source": [
    "Ellipse and partial diff eqn\n",
    "1.  CBSE_TextBook_pdf\\11_Physics\\keph107.pdf\n",
    "2.  CBSE_TextBook_pdf\\11_Maths\\kemh110.pdf\n",
    "\n",
    "Thermodynamics:\n",
    "CBSE_TextBook_pdf/11_chem/kech105.pdf\n",
    "CBSE_TextBook_pdf/11_Physics_2/keph11.pdf\n"
   ]
  },
  {
   "cell_type": "code",
   "execution_count": 8,
   "metadata": {},
   "outputs": [
    {
     "name": "stdout",
     "output_type": "stream",
     "text": [
      "[\n",
      "  {\n",
      "    \"node_1\": \"ellipse\",\n",
      "    \"node_2\": \"planet\",\n",
      "    \"edge\": \"An ellipse is a geometric shape traced out by a planet around the sun during its orbit. The term 'ellipse' refers to the curved path taken by the planet, while 'planet' denotes the celestial body moving along this path.\"\n",
      "  },\n",
      "  {\n",
      "    \"node_1\": \"perihelion\",\n",
      "    \"node_2\": \"ellipse\",\n",
      "    \"edge\": \"The perihelion is a specific point on the ellipse that represents the closest distance between the planet and the sun. It is an essential point in understanding the orbit of a planet around the sun.\"\n",
      "  },\n",
      "  {\n",
      "    \"node_1\": \"aphelion\",\n",
      "    \"node_2\": \"ellipse\",\n",
      "    \"edge\": \"The aphelion is another significant point on the ellipse that denotes the farthest distance between the planet and the sun during its orbit. This point is crucial to understand the complete path of a planet around the sun.\"\n",
      "  },\n",
      "  {\n",
      "    \"node_1\": \"semimajor axis\",\n",
      "    \"node_2\": \"ellipse\",\n",
      "    \"edge\": \"The semimajor axis refers to half the distance between the perihelion and the aphelion. It is a vital parameter that helps us calculate various other properties of the ellipse, such as the eccentricity and the length of the minor axis.\"\n",
      "  }\n",
      "]"
     ]
    }
   ],
   "source": [
    "prompt= 'An ellipse traced out by a planet around the sun. The closest point is P and the farthest point is A, P is called the perihelion and A the aphelion. The semimajor axis is half the distance AP.' #'ellipse traced planet around sun closest point farthest point called perihelion aphelion semimajor axis half distance drawing ellipse string ends fixed tip pencil holds string taut moved around planet moves around sun elliptical orbit shaded area area swept small interval time gravitation law periods square time period revolution planet proportional cube semi major axis ellipse traced planet law periods square time period revolution planet proportional cube semi major axis ellipse traced planet'#'rationalised mathematics simplification gives squaring again simplifying get i.e. since hence any point ellipse satisfies ... conversely let satisfy equation then therefore since similarly hence ... rationalised conic sections any point satisfies satisfies geometric condition'  #'mathematics chapter conic sections vlet relation knowledge real life visible your pupils let them understand knowledge world transformed bertrand russell introduction preceding chapter studied various forms equations line chapter study some other curves viz. circles ellipses parabolas hyperbolas names parabola hyperbola given apollonius curves fact known conic sections commonly conics because they obtained intersections plane double napped right circular cone curves wide range applications fields such planetary motion design telescopes antennas reflectors flashlights automobile headlights etc now subsequent sections see intersection plane double napped right circular cone results different types curves' #'thermodynamics branch physics deals concepts heat temperature inter conversion heat other forms energy thermodynamics macroscopic science deals bulk systems molecular constitution matter fact concepts laws formulated nineteenth century before molecular picture matter firmly established thermodynamic description involves relatively few macroscopic variables system suggested common sense usually measured directly microscopic description gas example involve specifying ordinates velocities huge number molecules constituting gas description kinetic theory gases detailed involve molecular distribution velocities thermodynamic description gas other hand avoids molecular description altogether instead state gas thermodynamics'\n",
    "response, _ = client.generate(model_name='zephyr:latest', system=SYS_PROMPT, prompt=prompt)"
   ]
  },
  {
   "cell_type": "code",
   "execution_count": 11,
   "metadata": {},
   "outputs": [
    {
     "data": {
      "text/plain": [
       "'[\\n  {\\n    \"node_1\": \"ellipse\",\\n    \"node_2\": \"planet\",\\n    \"edge\": \"An ellipse is a geometric shape traced out by a planet around the sun during its orbit. The term \\'ellipse\\' refers to the curved path taken by the planet, while \\'planet\\' denotes the celestial body moving along this path.\"\\n  },\\n  {\\n    \"node_1\": \"perihelion\",\\n    \"node_2\": \"ellipse\",\\n    \"edge\": \"The perihelion is a specific point on the ellipse that represents the closest distance between the planet and the sun. It is an essential point in understanding the orbit of a planet around the sun.\"\\n  },\\n  {\\n    \"node_1\": \"aphelion\",\\n    \"node_2\": \"ellipse\",\\n    \"edge\": \"The aphelion is another significant point on the ellipse that denotes the farthest distance between the planet and the sun during its orbit. This point is crucial to understand the complete path of a planet around the sun.\"\\n  },\\n  {\\n    \"node_1\": \"semimajor axis\",\\n    \"node_2\": \"ellipse\",\\n    \"edge\": \"The semimajor axis refers to half the distance between the perihelion and the aphelion. It is a vital parameter that helps us calculate various other properties of the ellipse, such as the eccentricity and the length of the minor axis.\"\\n  }\\n]'"
      ]
     },
     "execution_count": 11,
     "metadata": {},
     "output_type": "execute_result"
    }
   ],
   "source": [
    "response"
   ]
  },
  {
   "cell_type": "code",
   "execution_count": 12,
   "metadata": {},
   "outputs": [
    {
     "data": {
      "text/plain": [
       "[{'node_1': 'ellipse',\n",
       "  'node_2': 'planet',\n",
       "  'edge': \"An ellipse is a geometric shape traced out by a planet around the sun during its orbit. The term 'ellipse' refers to the curved path taken by the planet, while 'planet' denotes the celestial body moving along this path.\"},\n",
       " {'node_1': 'perihelion',\n",
       "  'node_2': 'ellipse',\n",
       "  'edge': 'The perihelion is a specific point on the ellipse that represents the closest distance between the planet and the sun. It is an essential point in understanding the orbit of a planet around the sun.'},\n",
       " {'node_1': 'aphelion',\n",
       "  'node_2': 'ellipse',\n",
       "  'edge': 'The aphelion is another significant point on the ellipse that denotes the farthest distance between the planet and the sun during its orbit. This point is crucial to understand the complete path of a planet around the sun.'},\n",
       " {'node_1': 'semimajor axis',\n",
       "  'node_2': 'ellipse',\n",
       "  'edge': 'The semimajor axis refers to half the distance between the perihelion and the aphelion. It is a vital parameter that helps us calculate various other properties of the ellipse, such as the eccentricity and the length of the minor axis.'}]"
      ]
     },
     "execution_count": 12,
     "metadata": {},
     "output_type": "execute_result"
    }
   ],
   "source": [
    "result = json.loads(response)\n",
    "result"
   ]
  },
  {
   "cell_type": "code",
   "execution_count": 43,
   "metadata": {},
   "outputs": [
    {
     "name": "stdout",
     "output_type": "stream",
     "text": [
      "[\n",
      "  {\n",
      "    \"node_1\": \"Copernican model\",\n",
      "    \"node_2\": \"Circular orbits\",\n",
      "    \"edge\": \"The Copernican model proposed by Nicolas Copernicus allowed for the concept of circular orbits around a fixed central sun. This contradicted the previous geocentric model proposed by the church, which suggested that the planets moved in circles around the Earth.\"\n",
      "  },\n",
      "  {\n",
      "    \"node_1\": \"Ellipse law\",\n",
      "    \"node_2\": \"Ellipses\",\n",
      "    \"edge\": \"The ellipse law introduced by Johannes Kepler allowed for a more accurate representation of planetary orbits. It stated that the paths planets took around the sun were not perfect circles, but rather elliptical in shape.\"\n",
      "  },\n",
      "  {\n",
      "    \"node_1\": \"Copernican model\",\n",
      "    \"node_2\": \"Ellipses\",\n",
      "    \"edge\": \"The Copernican model, as proposed by Nicolas Copernicus, also allowed for the concept of ellipses in planetary orbits. This further supported the idea that planets did not move in perfect circles around the sun.\"\n",
      "  },\n",
      "  {\n",
      "    \"node_1\": \"Kepler's laws\",\n",
      "    \"node_2\": \"Universal law of gravitation\",\n",
      "    \"edge\": \"Kepler's three laws of planetary motion, as proposed by Johannes Kepler, were further supported and expanded upon by Sir Isaac Newton's universal law of gravitation.\"\n",
      "  },\n",
      "  {\n",
      "    \"node_1\": \"Tycho Brahe\",\n",
      "    \"node_2\": \"Compiled data\",\n",
      "    \"edge\": \"Tycho Brahe's compiled data of planetary positions was analysed by Johannes Kepler, leading to the development of Kepler's laws of planetary motion.\"\n",
      "  },\n",
      "  {\n",
      "    \"node_1\": \"Copernican model\",\n",
      "    \"node_2\": \"Church\",\n",
      "    \"edge\": \"The Copernican model proposed by Nicolas Copernicus contradicted the previously accepted geocentric model, which was supported by the church.\"\n",
      "  },\n",
      "  {\n",
      "    \"node_1\": \"Copernican model\",\n",
      "    \"node_2\": \"Galileo Galilei\",\n",
      "    \"edge\": \"The Copernican model proposed by Nicolas Copernicus influenced Galileo Galilei's beliefs and ultimately led to his prosecution by the church.\"\n",
      "]"
     ]
    }
   ],
   "source": [
    "prompt='physics proposed definitive model planets moved circles around fixed central sun his theory discredited church notable amongst supporters galileo face prosecution state his beliefs ellipse law deviation copernican model allowed circular orbits ellipse circle special case closed curve drawn simply follows around same time galileo nobleman called tycho brahe hailing denmark spent his entire lifetime recording observations planets naked eye his compiled data analysed later his assistant johannes kepler extract data three elegant laws now name kepler laws laws known newton enabled him make great scientific leap proposing his universal law gravitation kepler laws'\n",
    "response, _ = client.generate(model_name='zephyr:latest', system=SYS_PROMPT, prompt=prompt)"
   ]
  },
  {
   "cell_type": "code",
   "execution_count": 45,
   "metadata": {},
   "outputs": [
    {
     "name": "stdout",
     "output_type": "stream",
     "text": [
      "[\n",
      "  {\n",
      "    \"node_1\": \"elliptical orbit\",\n",
      "    \"node_2\": \"planet\",\n",
      "    \"edge\": \"An elliptical orbit is the path that a planet follows around the sun. The closest point of an elliptical orbit to the sun is called perihelion, and the farthest point is called aphelion. The semimajor axis is the half distance between these points.\"\n",
      "  },\n",
      "  {\n",
      "    \"node_1\": \"ellipse\",\n",
      "    \"node_2\": \"elliptical orbit\",\n",
      "    \"edge\": \"An ellipse can be traced by fixing a tip of a pencil at one end of a string and holding the other end of the string taut as the pencil is moved around the path described by the planet's motion.\"\n",
      "  },\n",
      "  {\n",
      "    \"node_1\": \"perihelion\",\n",
      "    \"node_2\": \"elliptical orbit\",\n",
      "    \"edge\": \"The closest point in an elliptical orbit to the sun is called perihelion.\"\n",
      "  },\n",
      "  {\n",
      "    \"node_1\": \"aphelion\",\n",
      "    \"node_2\": \"elliptical orbit\",\n",
      "    \"edge\": \"The farthest point in an elliptical orbit from the sun is called aphelion.\"\n",
      "  },\n",
      "  {\n",
      "    \"node_1\": \"semimajor axis\",\n",
      "    \"node_2\": \"elliptical orbit\",\n",
      "    \"edge\": \"The semimajor axis of an ellipse is half the distance between perihelion and aphelion in an elliptical orbit.\"\n",
      "  },\n",
      "  {\n",
      "    \"node_1\": \"shaded area\",\n",
      "    \"node_2\": \"elliptical orbit\",\n",
      "    \"edge\": \"The shaded area inside an ellipse represents the area that a planet sweeps as it moves along its elliptical path.\"\n",
      "  },\n",
      "  {\n",
      "    \"node_1\": \"small interval of time\",\n",
      "    \"node_2\": \"ellipses traced by planets\",\n",
      "    \"edge\": \"The gravitational law dictates that the periods of revolution for a planet in an elliptical orbit are proportional to the cube of their semimajor axis.\"\n",
      "  },\n",
      "  {\n",
      "    \"node_1\": \"law of periods and semi major axis\",\n",
      "    \"node_2\": \"planets\",\n",
      "    \"edge\": \"According to Kepler's laws, the periods of revolution for a planet in an elliptical orbit are proportional to the cube of their semimajor axis.\"\n",
      "  },\n",
      "  {\n",
      "    \"node_1\": \"revolution\",\n",
      "    \"node_2\": \"planet\",\n",
      "    \"edge\": \"The complete path that a planet follows around the sun is called a revolution.\"\n",
      "]"
     ]
    }
   ],
   "source": [
    "prompt= 'ellipse traced planet around sun closest point farthest point called perihelion aphelion semimajor axis half distance drawing ellipse string ends fixed tip pencil holds string taut moved around planet moves around sun elliptical orbit shaded area area swept small interval time gravitation law periods square time period revolution planet proportional cube semi major axis ellipse traced planet law periods square time period revolution planet proportional cube semi major axis ellipse traced planet'\n",
    "response, _ = client.generate(model_name='zephyr:latest', system=SYS_PROMPT, prompt=prompt)#'rationalised mathematics simplification gives squaring again simplifying get i.e. since hence any point ellipse satisfies ... conversely let satisfy equation then therefore since similarly hence ... rationalised conic sections any point satisfies satisfies geometric condition'  #'mathematics chapter conic sections vlet relation knowledge real life visible your pupils let them understand knowledge world transformed bertrand russell introduction preceding chapter studied various forms equations line chapter study some other curves viz. circles ellipses parabolas hyperbolas names parabola hyperbola given apollonius curves fact known conic sections commonly conics because they obtained intersections plane double napped right circular cone curves wide range applications fields such planetary motion design telescopes antennas reflectors flashlights automobile headlights etc now subsequent sections see intersection plane double napped right circular cone results different types curves'"
   ]
  },
  {
   "cell_type": "code",
   "execution_count": 25,
   "metadata": {},
   "outputs": [
    {
     "data": {
      "text/plain": [
       "'Here\\'s an example of how you could extract ontology using the thoughts provided:\\n\\n1. While traversing through each sentence, Think about the key terms mentioned in it.\\n   - Terms may include scientific terms, discovery, invention, event, concept, scientists, condition, experiments etc.\\n   - Terms should be as atomistic as possible ignore object, document, organisation.\\n   - In this context chunk, some of the key terms are: thermodynamics, branch, physics, deals, concepts, heat, temperature, inter conversion, heat other forms of energy, thermodynamics (macroscopic science), bulk systems, molecular constitution, matter, fact, laws, formulated, nineteenth century, before molecular picture, matter firmly established, thermodynamic description, involves relatively few macroscopic variables, system, suggested common sense, usually measured directly, microscopic description, gas example, involve specifying ordinates velocities, huge number molecules constituting gas, description (kinetic theory gases), detailed involve molecular distribution velocities, thermodynamic description gas other hand avoids molecular description altogether instead state gas thermodynamics\\n\\n2. Think about how these terms can have one on one relation with other terms.\\n   - Terms that are mentioned in the same sentence or the same paragraph are typically related to each other.\\n   - In this context chunk, some of the possible relations could be:\\n       - thermodynamics: branch (physics)\\n       - concepts: deals\\n       - heat: concepts, inter conversion, energy\\n       - temperature: concepts, inter conversion\\n       - macroscopic science: deals (thermodynamics), bulk systems, molecular constitution, matter fact, laws\\n       - nineteenth century: before (molecular picture)\\n       - matter firmly established: thermodynamic description\\n       - usually measured directly: microscopic description\\n       - kinetic theory gases: description (gas example), involves specifying ordinates velocities, huge number molecules constituting gas, detailed involve molecular distribution velocities\\n       - gas thermodynamics: avoids molecular description altogether instead state\\n\\n3. Find out the relation between each such related pair of terms.\\n   - Here\\'s an example of how you could fill in the relation:\\n       - { \"node_1\": \"thermodynamics\", \"node_2\": \"branch\", \"edge\": \"is a branch of physics\" }\\n       - { \"node_1\": \"concepts\", \"node_2\": \"heat\", \"edge\": \"are concepts in thermodynamics\" }\\n       - { \"node_1\": \"heat\", \"node_2\": \"inter conversion\", \"edge\": \"can be interconverted into other forms of energy\" }\\n       - { \"node_1\": \"concepts\", \"node_2\": \"temperature\", \"edge\": \"are concepts in thermodynamics\" }\\n       - ... and so on.'"
      ]
     },
     "execution_count": 25,
     "metadata": {},
     "output_type": "execute_result"
    }
   ],
   "source": [
    "response"
   ]
  },
  {
   "cell_type": "code",
   "execution_count": 44,
   "metadata": {},
   "outputs": [],
   "source": [
    "\n",
    "fname=uuid.uuid4().hex+'.json'\n",
    "\n",
    "with open('./Prompt_tuning_history/'+fname, 'w') as json_file:\n",
    "    json.dump(response, json_file)"
   ]
  }
 ],
 "metadata": {
  "kernelspec": {
   "display_name": "Python 3",
   "language": "python",
   "name": "python3"
  },
  "language_info": {
   "codemirror_mode": {
    "name": "ipython",
    "version": 3
   },
   "file_extension": ".py",
   "mimetype": "text/x-python",
   "name": "python",
   "nbconvert_exporter": "python",
   "pygments_lexer": "ipython3",
   "version": "3.9.7"
  }
 },
 "nbformat": 4,
 "nbformat_minor": 2
}
