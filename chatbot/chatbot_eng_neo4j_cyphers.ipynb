{
 "cells": [
  {
   "cell_type": "markdown",
   "id": "8ed75b05",
   "metadata": {},
   "source": [
    "## Connecting to Neo4j db and  query"
   ]
  },
  {
   "cell_type": "code",
   "execution_count": 58,
   "id": "ce0857dd",
   "metadata": {},
   "outputs": [],
   "source": [
    "from dotenv import load_dotenv\n",
    "import os\n",
    "load_dotenv()\n",
    "password=os.getenv('password')\n",
    "user=os.getenv('user')\n",
    "OPENAI_API_KEY=os.getenv('OPENAI_API_KEY')\n",
    "Google_API_KEY=os.getenv('Google_api_key')"
   ]
  },
  {
   "cell_type": "code",
   "execution_count": 42,
   "id": "ade66231",
   "metadata": {},
   "outputs": [],
   "source": [
    "from neo4j import GraphDatabase\n",
    "from py2neo import Graph\n",
    "import pandas as pd\n",
    "import neo4j\n",
    "\n",
    "uri = \"bolt://localhost:7687\"\n",
    "user = user\n",
    "password = password\n",
    "#database_name = \"SchoolGPT.SchoolAI_dbms\"  # Specify your database name\n",
    "# add db name to avoid starting theough neo4j desktop\n",
    "driver = GraphDatabase.driver(uri, auth=(user, password))\n"
   ]
  },
  {
   "cell_type": "code",
   "execution_count": 43,
   "id": "37cce730",
   "metadata": {},
   "outputs": [],
   "source": [
    "query=\"MATCH (n)-[r]->(m) RETURN n, r, m LIMIT 10\"\n",
    "            #\"MATCH (n1:Node {name: 'system'}) RETURN n1 as node_name\" #write proper queries\n",
    "with driver.session() as session:\n",
    "    result = session.run(query)\n",
    "    n = [record['m'] for record in result]"
   ]
  },
  {
   "cell_type": "markdown",
   "id": "ceec89ec",
   "metadata": {},
   "source": [
    "### Displaying cypher query responses as pdf"
   ]
  },
  {
   "cell_type": "code",
   "execution_count": 1,
   "id": "f78bc35a",
   "metadata": {},
   "outputs": [],
   "source": [
    "def run_query_and_return_df(query):\n",
    "    with driver.session() as session:\n",
    "        result = session.run(query)\n",
    "        return pd.DataFrame([r.values() for r in result], columns=result.keys())\n"
   ]
  },
  {
   "cell_type": "code",
   "execution_count": 118,
   "id": "547b3a7c",
   "metadata": {},
   "outputs": [],
   "source": [
    "query1 = \"\"\"\n",
    "MATCH (c1:Concept)\n",
    "WHERE c1.concept_1 CONTAINS 'internal energy' AND c1.edge IS NOT NULL\n",
    "RETURN c1;\n",
    "\"\"\"\n",
    "query2=\"\"\"MATCH (n)-[r]->(m) RETURN n.name as concept_1, r.edge as r_edge, r.description as r_description, m.name as  concept_2\"\"\"\n",
    "\n",
    "query3=\"\"\"MATCH (n)-[r]->(m)\n",
    "WHERE n.name CONTAINS 'internal energy' AND r.edge contains 'related'\n",
    "RETURN n.name as concept_1,\n",
    "r.edge as r_edge, r.description as r_description, m.name as concept_2\"\"\""
   ]
  },
  {
   "cell_type": "code",
   "execution_count": null,
   "id": "be1521d2",
   "metadata": {},
   "outputs": [],
   "source": []
  },
  {
   "cell_type": "code",
   "execution_count": 119,
   "id": "e66914ca",
   "metadata": {},
   "outputs": [],
   "source": [
    "df2=run_query_and_return_df(query2)\n",
    "df3=run_query_and_return_df(query3)"
   ]
  },
  {
   "cell_type": "code",
   "execution_count": 112,
   "id": "5ceeca6a",
   "metadata": {},
   "outputs": [
    {
     "data": {
      "text/plain": [
       "(31, 4)"
      ]
     },
     "execution_count": 112,
     "metadata": {},
     "output_type": "execute_result"
    }
   ],
   "source": [
    "df3.shape"
   ]
  },
  {
   "cell_type": "code",
   "execution_count": 120,
   "id": "515db913",
   "metadata": {},
   "outputs": [
    {
     "data": {
      "text/html": [
       "<div>\n",
       "<style scoped>\n",
       "    .dataframe tbody tr th:only-of-type {\n",
       "        vertical-align: middle;\n",
       "    }\n",
       "\n",
       "    .dataframe tbody tr th {\n",
       "        vertical-align: top;\n",
       "    }\n",
       "\n",
       "    .dataframe thead th {\n",
       "        text-align: right;\n",
       "    }\n",
       "</style>\n",
       "<table border=\"1\" class=\"dataframe\">\n",
       "  <thead>\n",
       "    <tr style=\"text-align: right;\">\n",
       "      <th></th>\n",
       "      <th>concept_1</th>\n",
       "      <th>r_edge</th>\n",
       "      <th>r_description</th>\n",
       "      <th>concept_2</th>\n",
       "    </tr>\n",
       "  </thead>\n",
       "  <tbody>\n",
       "    <tr>\n",
       "      <th>0</th>\n",
       "      <td>internal energy</td>\n",
       "      <td>is-related-to</td>\n",
       "      <td>If we neglect small intermolecular forces in a...</td>\n",
       "      <td>sum of kinetic energies</td>\n",
       "    </tr>\n",
       "    <tr>\n",
       "      <th>1</th>\n",
       "      <td>internal energy</td>\n",
       "      <td>is-related-to</td>\n",
       "      <td>The internal energy of a gas is the sum of the...</td>\n",
       "      <td>potential energy</td>\n",
       "    </tr>\n",
       "    <tr>\n",
       "      <th>2</th>\n",
       "      <td>internal energy</td>\n",
       "      <td>is-related-to</td>\n",
       "      <td>Internal energy is a concept in classical ther...</td>\n",
       "      <td>thermodynamic system</td>\n",
       "    </tr>\n",
       "    <tr>\n",
       "      <th>3</th>\n",
       "      <td>change in internal energy</td>\n",
       "      <td>is related to</td>\n",
       "      <td>the value of change in internal energy depends...</td>\n",
       "      <td>initial state</td>\n",
       "    </tr>\n",
       "    <tr>\n",
       "      <th>4</th>\n",
       "      <td>change in internal energy</td>\n",
       "      <td>is related to</td>\n",
       "      <td>represents the amount of heat transferred to o...</td>\n",
       "      <td>q</td>\n",
       "    </tr>\n",
       "    <tr>\n",
       "      <th>5</th>\n",
       "      <td>change in internal energy</td>\n",
       "      <td>is related to</td>\n",
       "      <td>the value of change in internal energy depends...</td>\n",
       "      <td>final state</td>\n",
       "    </tr>\n",
       "    <tr>\n",
       "      <th>6</th>\n",
       "      <td>change in internal energy</td>\n",
       "      <td>is related to</td>\n",
       "      <td>represents the amount of work done on or by a ...</td>\n",
       "      <td>w</td>\n",
       "    </tr>\n",
       "  </tbody>\n",
       "</table>\n",
       "</div>"
      ],
      "text/plain": [
       "                   concept_1         r_edge  \\\n",
       "0            internal energy  is-related-to   \n",
       "1            internal energy  is-related-to   \n",
       "2            internal energy  is-related-to   \n",
       "3  change in internal energy  is related to   \n",
       "4  change in internal energy  is related to   \n",
       "5  change in internal energy  is related to   \n",
       "6  change in internal energy  is related to   \n",
       "\n",
       "                                       r_description                concept_2  \n",
       "0  If we neglect small intermolecular forces in a...  sum of kinetic energies  \n",
       "1  The internal energy of a gas is the sum of the...         potential energy  \n",
       "2  Internal energy is a concept in classical ther...     thermodynamic system  \n",
       "3  the value of change in internal energy depends...            initial state  \n",
       "4  represents the amount of heat transferred to o...                        q  \n",
       "5  the value of change in internal energy depends...              final state  \n",
       "6  represents the amount of work done on or by a ...                        w  "
      ]
     },
     "execution_count": 120,
     "metadata": {},
     "output_type": "execute_result"
    }
   ],
   "source": [
    "df3"
   ]
  },
  {
   "cell_type": "code",
   "execution_count": 78,
   "id": "359dbc1a",
   "metadata": {},
   "outputs": [],
   "source": [
    "## This function is not working can be ignored\n",
    "pandas_df = driver.execute_query(\n",
    "    \"\"\" MATCH (n)-[r]->(m) RETURN n, r, m LIMIT 10\"\"\",\n",
    "    result_transformer_=neo4j.Result.to_df\n",
    ")\n"
   ]
  },
  {
   "cell_type": "markdown",
   "id": "a39650cd",
   "metadata": {},
   "source": [
    "# Training cyphers"
   ]
  },
  {
   "cell_type": "code",
   "execution_count": 2,
   "id": "594c4a5a",
   "metadata": {},
   "outputs": [],
   "source": [
    "# Reading the files\n",
    "import os\n",
    "os.chdir('D:\\\\Github_repos\\\\NLP_segmentation_Knowledge_Graph_cb\\\\Codes\\\\Kaggle\\\\19_April_thermo_results')"
   ]
  },
  {
   "cell_type": "code",
   "execution_count": 38,
   "id": "c89370c4",
   "metadata": {},
   "outputs": [
    {
     "data": {
      "text/html": [
       "<div>\n",
       "<style scoped>\n",
       "    .dataframe tbody tr th:only-of-type {\n",
       "        vertical-align: middle;\n",
       "    }\n",
       "\n",
       "    .dataframe tbody tr th {\n",
       "        vertical-align: top;\n",
       "    }\n",
       "\n",
       "    .dataframe thead th {\n",
       "        text-align: right;\n",
       "    }\n",
       "</style>\n",
       "<table border=\"1\" class=\"dataframe\">\n",
       "  <thead>\n",
       "    <tr style=\"text-align: right;\">\n",
       "      <th></th>\n",
       "      <th>n</th>\n",
       "    </tr>\n",
       "  </thead>\n",
       "  <tbody>\n",
       "  </tbody>\n",
       "</table>\n",
       "</div>"
      ],
      "text/plain": [
       "Empty DataFrame\n",
       "Columns: [n]\n",
       "Index: []"
      ]
     },
     "execution_count": 38,
     "metadata": {},
     "output_type": "execute_result"
    }
   ],
   "source": [
    "query_ex=\"\"\"\n",
    "MATCH (n)-[r]->(m)\n",
    "WHERE r.description contains 'first order reaction'\n",
    "RETURN n.name as concept_1, m.name as concept_2,\n",
    "r.edge as r_edge, r.description as r_description\n",
    "\"\"\"\n",
    "\n",
    "query_ex=\"\"\"\n",
    "MATCH (n)-[r]->(m)\n",
    "WHERE n.name CONTAINS 'homogeneous system' or m.name contains 'homogeneous system' or r.description contains 'homogeneous system' \n",
    "RETURN n.name as concept_1,\n",
    "r.edge as r_edge, r.description as r_description, m.name as concept_2\"\"\"\n",
    "\n",
    "\n",
    "query_ex=\"\"\"MATCH (n:Concept {name: 'chemical equation'})--(m)\n",
    "RETURN n.name,m.name\n",
    "\"\"\"\n",
    "\n",
    "#Find shortest path between two nodes:\n",
    "query_ex=\"\"\"MATCH p=shortestPath((n:Concept {name: 'isomthermal process'})-[*..15]-(m:Concept {name: 'process'}))\n",
    "RETURN p\n",
    "\n",
    "\"\"\"\n",
    "#Find all nodes that do not have a specific property:\n",
    "query_ex=\"\"\"\n",
    "MATCH (n:Concept)\n",
    "WHERE (n.property) is not  NULL\n",
    "RETURN n\n",
    "\n",
    "\"\"\"\n",
    "\n",
    "example_df=run_query_and_return_df(query_ex)\n",
    "example_df"
   ]
  },
  {
   "cell_type": "code",
   "execution_count": 39,
   "id": "3e243ed8",
   "metadata": {},
   "outputs": [],
   "source": [
    "examples = \"\"\"\n",
    "# What are some of the concepts directly related to \"internal energy\"?\n",
    "\n",
    "MATCH (n)-[r]->(m)\n",
    "WHERE n.name CONTAINS 'internal energy' AND r.edge contains 'related'\n",
    "RETURN n.name as concept_1,\n",
    "r.edge as r_edge, r.description as r_description, m.name as concept_2\n",
    "\n",
    "# What is a first order reaction and associated entities?\n",
    "\n",
    "MATCH (n)-[r]->(m)\n",
    "WHERE r.description contains 'first order reaction'\n",
    "RETURN n.name as concept_1, m.name as concept_2,\n",
    "r.edge as r_edge, r.description as r_description\n",
    "\n",
    "\n",
    "# What is a first order reaction?\n",
    "\n",
    "MATCH (n)-[r]->(m)\n",
    "WHERE r.description contains 'first order reaction'\n",
    "RETURN r.description as r_description\n",
    "\n",
    "\n",
    "# What can you tell me about the homogeneous systems?\n",
    "\n",
    "MATCH (n)-[r]->(m)\n",
    "WHERE n.name CONTAINS 'homogeneous system' or m.name contains 'homogeneous system' or r.description contains 'homogeneous system' \n",
    "RETURN n.name as concept_1,\n",
    "r.edge as r_edge, r.description as r_description, m.name as concept_2\n",
    "\n",
    "# What are all the nodes related to chemical reaction\n",
    "MATCH (n:Concept {name: 'chemical equation'})--(m)\n",
    "RETURN n.name,m.name\n",
    "\n",
    "\n",
    "# Find all relationships for a specific keyword:\n",
    "MATCH ()-[r:RELATIONSHIP]->()\n",
    "where r.description contains 'energy'\n",
    "RETURN r.edge,r.description\n",
    "\n",
    "\n",
    "\"\"\"\n"
   ]
  },
  {
   "cell_type": "markdown",
   "id": "7320d83a",
   "metadata": {},
   "source": [
    "## Chatbots to generate cypher queries"
   ]
  },
  {
   "cell_type": "markdown",
   "id": "28106985",
   "metadata": {},
   "source": [
    "### Testing the Open AI and GoogleAI API"
   ]
  },
  {
   "cell_type": "code",
   "execution_count": null,
   "id": "2846f466",
   "metadata": {
    "collapsed": true
   },
   "outputs": [],
   "source": [
    "!pip install openai"
   ]
  },
  {
   "cell_type": "code",
   "execution_count": null,
   "id": "e7cd6e2e",
   "metadata": {},
   "outputs": [],
   "source": [
    "pip install -q -U google-generativeai"
   ]
  },
  {
   "cell_type": "code",
   "execution_count": 50,
   "id": "527baec5",
   "metadata": {},
   "outputs": [],
   "source": [
    "import openai\n",
    "from openai import OpenAI"
   ]
  },
  {
   "cell_type": "code",
   "execution_count": 51,
   "id": "42b8eab2",
   "metadata": {},
   "outputs": [],
   "source": [
    "client = OpenAI(\n",
    "    # This is the default and can be omitted\n",
    "    api_key=OPENAI_API_KEY,\n",
    ")"
   ]
  },
  {
   "cell_type": "code",
   "execution_count": null,
   "id": "fa57f69d",
   "metadata": {
    "collapsed": true
   },
   "outputs": [],
   "source": [
    "chat_completion=client.chat.completions.create(messages=[\n",
    "    {\n",
    "    \"role\":\"user\",\n",
    "    \"content\":\"Say this is a welcome party to chatgpt\",\n",
    "    }\n",
    "],\n",
    "    model=\"gpt-3.5-turbo\"\n",
    "\n",
    ")"
   ]
  },
  {
   "cell_type": "markdown",
   "id": "8f25c7d1",
   "metadata": {},
   "source": []
  },
  {
   "cell_type": "code",
   "execution_count": 74,
   "id": "aa96b7e7",
   "metadata": {},
   "outputs": [],
   "source": [
    "import pathlib\n",
    "import textwrap\n",
    "\n",
    "import google.generativeai as genai\n",
    "\n",
    "from IPython.display import display\n",
    "from IPython.display import Markdown\n",
    "\n",
    "#From Google Gemini AI\n",
    "\n",
    "def to_markdown(text):\n",
    "  text = text.replace('•', '  *')\n",
    "  return Markdown(textwrap.indent(text, '> ', predicate=lambda _: True))"
   ]
  },
  {
   "cell_type": "code",
   "execution_count": 60,
   "id": "5a96a2f2",
   "metadata": {},
   "outputs": [],
   "source": [
    "genai.configure(api_key=Google_API_KEY)"
   ]
  },
  {
   "cell_type": "code",
   "execution_count": 62,
   "id": "40164ae9",
   "metadata": {},
   "outputs": [
    {
     "name": "stdout",
     "output_type": "stream",
     "text": [
      "models/gemini-1.0-pro\n",
      "models/gemini-1.0-pro-001\n",
      "models/gemini-1.0-pro-latest\n",
      "models/gemini-1.0-pro-vision-latest\n",
      "models/gemini-1.5-pro-latest\n",
      "models/gemini-pro\n",
      "models/gemini-pro-vision\n"
     ]
    }
   ],
   "source": [
    "for m in genai.list_models():\n",
    "        if 'generateContent' in m.supported_generation_methods:\n",
    "            print(m.name)"
   ]
  },
  {
   "cell_type": "code",
   "execution_count": 63,
   "id": "50d54ea6",
   "metadata": {},
   "outputs": [],
   "source": [
    "model=genai.GenerativeModel('gemini-pro')"
   ]
  },
  {
   "cell_type": "code",
   "execution_count": 80,
   "id": "d5bd8aaa",
   "metadata": {},
   "outputs": [
    {
     "data": {
      "text/markdown": [
       "> **KG Guided QnA**\n",
       "> \n",
       "> **Definition:**\n",
       "> \n",
       "> KG Guided QnA (Knowledge Graph Guided Question Answering) is an advanced natural language processing (NLP) technique that utilizes a knowledge graph (KG) to enhance question answering systems.\n",
       "> \n",
       "> **Concept:**\n",
       "> \n",
       "> A knowledge graph is a structured database that represents knowledge about the world in the form of interconnected entities and relationships. It contains concepts, objects, events, and properties organized in a way that allows machines to extract and infer meaning.\n",
       "> \n",
       "> KG Guided QnA incorporates the knowledge graph into the question answering process to:\n",
       "> \n",
       "> * **Augment Question Understanding:** The KG provides additional context and information, enabling the QnA system to better understand the user's query.\n",
       "> * **Enhance Answer Retrieval:** By matching the query to entities and relationships in the KG, the QnA system can retrieve more accurate and relevant answers.\n",
       "> * **Generate Explanations:** The KG allows the QnA system to explain the reasoning behind its answers, providing users with more context and transparency.\n",
       "> \n",
       "> **Process:**\n",
       "> \n",
       "> KG Guided QnA typically involves the following steps:\n",
       "> \n",
       "> 1. **Query Parsing:** The query is analyzed to identify entities, relationships, and keywords.\n",
       "> 2. **KG Lookup:** The parsed query is matched against the knowledge graph to retrieve relevant entities and relationships.\n",
       "> 3. **Answer Generation:** The KG-enhanced query is used to search for and retrieve answers from relevant sources.\n",
       "> 4. **Answer Explanation:** The KG is used to provide explanations or justifications for the retrieved answers.\n",
       "> \n",
       "> **Benefits of KG Guided QnA:**\n",
       "> \n",
       "> * **Improved Accuracy:** The KG provides a rich source of knowledge, resulting in more precise and informative answers.\n",
       "> * **Enhanced Relevance:** By leveraging the semantic relationships in the KG, the QnA system can retrieve answers that are directly related to the user's query.\n",
       "> * **Explainability:** The KG assists in explaining the reasoning behind the answers, increasing user confidence and understanding.\n",
       "> * **Factual Correctness:** The structured nature of the KG ensures the reliability and credibility of the answers.\n",
       "> * **Domain Specialization:** KG Guided QnA can be customized to specific domains by integrating domain-specific knowledge graphs.\n",
       "> \n",
       "> **Applications:**\n",
       "> \n",
       "> KG Guided QnA finds applications in various domains, including:\n",
       "> \n",
       "> * **Virtual Assistants:** Providing accurate and conversational answers to user questions.\n",
       "> * **Chatbots:** Engaging in natural language conversations and answering customer queries.\n",
       "> * **Search Engines:** Enhancing search results with KG-derived information and explanations.\n",
       "> * **Healthcare:** Providing medical information and answering patient questions.\n",
       "> * **Financial Services:** Providing financial insights and guidance based on KG knowledge."
      ],
      "text/plain": [
       "<IPython.core.display.Markdown object>"
      ]
     },
     "execution_count": 80,
     "metadata": {},
     "output_type": "execute_result"
    }
   ],
   "source": [
    "response=model.generate_content(\"what does KG guided QnA mean give a detailed response? \")#,stream=False)\n",
    "to_markdown(response.text)"
   ]
  },
  {
   "cell_type": "code",
   "execution_count": 81,
   "id": "65f3561e",
   "metadata": {},
   "outputs": [
    {
     "data": {
      "text/plain": []
     },
     "execution_count": 81,
     "metadata": {},
     "output_type": "execute_result"
    }
   ],
   "source": [
    "response.prompt_feedback ##  if the response is not returned it could be because of the blockage"
   ]
  },
  {
   "cell_type": "code",
   "execution_count": 45,
   "id": "5eba6ec9",
   "metadata": {},
   "outputs": [],
   "source": [
    "## Creating system prompt for generating cyphers for Neo4jDB\n",
    "sys_prompt_1=f\"\"\" You are an AI system specializes in generating Neo4jDB Cypher queries based on example Cypher queries.\n",
    "Example Neo4jDB Cypher queries are: \\n {examples} \\n\n",
    "You will refrain from providing explanations or additional information and solely focus on generating the Neo4jDB cypher queries.\n",
    "You will strictly adhere to generating Neo4jDB cypher queries based on the given examples.\n",
    "However, if the context of the conversation is insufficient, you will inform the user and specify the missing context.\n",
    "I repeat, if the context of the conversation is insufficient please inform the user and specify the missing context.\n",
    "\"\"\"\n",
    "#Do not provide any AQL queries that can't be deduced from AQL query examples. \n"
   ]
  },
  {
   "cell_type": "code",
   "execution_count": null,
   "id": "2fcc62ef",
   "metadata": {},
   "outputs": [],
   "source": [
    "def schoolaiChatbot(user_input):\n",
    "    messages=[{\"role\":\"system\",\"content\":sys_prompt_1}]\n",
    "    messages.append({\"role\":\"user\",\"content\":user_input})\n",
    "    #change the framework to Gemini"
   ]
  }
 ],
 "metadata": {
  "kernelspec": {
   "display_name": "Python 3 (ipykernel)",
   "language": "python",
   "name": "python3"
  },
  "language_info": {
   "codemirror_mode": {
    "name": "ipython",
    "version": 3
   },
   "file_extension": ".py",
   "mimetype": "text/x-python",
   "name": "python",
   "nbconvert_exporter": "python",
   "pygments_lexer": "ipython3",
   "version": "3.9.5"
  },
  "toc": {
   "base_numbering": 1,
   "nav_menu": {},
   "number_sections": true,
   "sideBar": true,
   "skip_h1_title": false,
   "title_cell": "Table of Contents",
   "title_sidebar": "Contents",
   "toc_cell": false,
   "toc_position": {},
   "toc_section_display": true,
   "toc_window_display": false
  },
  "varInspector": {
   "cols": {
    "lenName": 16,
    "lenType": 16,
    "lenVar": 40
   },
   "kernels_config": {
    "python": {
     "delete_cmd_postfix": "",
     "delete_cmd_prefix": "del ",
     "library": "var_list.py",
     "varRefreshCmd": "print(var_dic_list())"
    },
    "r": {
     "delete_cmd_postfix": ") ",
     "delete_cmd_prefix": "rm(",
     "library": "var_list.r",
     "varRefreshCmd": "cat(var_dic_list()) "
    }
   },
   "types_to_exclude": [
    "module",
    "function",
    "builtin_function_or_method",
    "instance",
    "_Feature"
   ],
   "window_display": false
  }
 },
 "nbformat": 4,
 "nbformat_minor": 5
}
