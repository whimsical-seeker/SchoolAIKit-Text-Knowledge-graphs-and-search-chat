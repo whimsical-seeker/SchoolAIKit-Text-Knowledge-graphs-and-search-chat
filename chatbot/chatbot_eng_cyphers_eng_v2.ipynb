{
 "cells": [
  {
   "cell_type": "markdown",
   "id": "2e9dd561",
   "metadata": {},
   "source": [
    "## Importing libraries"
   ]
  },
  {
   "cell_type": "code",
   "execution_count": 1,
   "id": "3bfd0d2d",
   "metadata": {},
   "outputs": [],
   "source": [
    "from dotenv import load_dotenv\n",
    "import os\n",
    "from neo4j import GraphDatabase\n",
    "from py2neo import Graph\n",
    "import pandas as pd\n",
    "import neo4j\n"
   ]
  },
  {
   "cell_type": "code",
   "execution_count": null,
   "id": "f6e6dac7",
   "metadata": {
    "scrolled": true
   },
   "outputs": [],
   "source": [
    "import pathlib\n",
    "import textwrap\n",
    "\n",
    "import google.generativeai as genai  # genai library\n",
    "from datetime import datetime\n",
    "from IPython.display import display\n",
    "from IPython.display import Markdown\n"
   ]
  },
  {
   "cell_type": "code",
   "execution_count": 5,
   "id": "c03e5173",
   "metadata": {},
   "outputs": [],
   "source": [
    "load_dotenv() # Loading env file and reading credentials\n",
    "password=os.getenv('password')\n",
    "user=os.getenv('user')\n",
    "Google_API_KEY=os.getenv('Google_api_key') #Loading the keys"
   ]
  },
  {
   "cell_type": "markdown",
   "id": "9f9c9e6d",
   "metadata": {},
   "source": [
    "### Connecting to Neo4j database and example cyphers"
   ]
  },
  {
   "cell_type": "code",
   "execution_count": 6,
   "id": "c564283d",
   "metadata": {},
   "outputs": [],
   "source": [
    "\n",
    "uri = \"bolt://localhost:7687\"\n",
    "user = user\n",
    "password = password\n",
    "#database_name = \"SchoolGPT.SchoolAI_dbms\"  # Specify your database name\n",
    "# add db name to avoid starting theough neo4j desktop\n",
    "driver = GraphDatabase.driver(uri, auth=(user, password))"
   ]
  },
  {
   "cell_type": "code",
   "execution_count": null,
   "id": "ab171139",
   "metadata": {},
   "outputs": [],
   "source": [
    "query=\"MATCH (n)-[r]->(m) RETURN n, r, m LIMIT 10\"\n",
    "            #\"MATCH (n1:Node {name: 'system'}) RETURN n1 as node_name\" #write proper queries\n",
    "with driver.session() as session:\n",
    "    result = session.run(query)\n",
    "    n = [record['m'] for record in result]"
   ]
  },
  {
   "cell_type": "code",
   "execution_count": null,
   "id": "4f6aa272",
   "metadata": {},
   "outputs": [],
   "source": [
    "n ## sample query and output"
   ]
  },
  {
   "cell_type": "markdown",
   "id": "8cb7bd7f",
   "metadata": {},
   "source": [
    "### Displaying cypher query responses as pandas df"
   ]
  },
  {
   "cell_type": "code",
   "execution_count": 9,
   "id": "b86a98eb",
   "metadata": {},
   "outputs": [],
   "source": [
    "#Function to query the graph and return the results as a pandas dataframe\n",
    "def run_query_and_return_df(query):\n",
    "    with driver.session() as session:\n",
    "        result = session.run(query)\n",
    "        return pd.DataFrame([r.values() for r in result], columns=result.keys())\n"
   ]
  },
  {
   "cell_type": "code",
   "execution_count": null,
   "id": "f11194f2",
   "metadata": {
    "scrolled": true
   },
   "outputs": [],
   "source": [
    "query1 = \"\"\"\n",
    "MATCH (n)-[r]->(m)\n",
    "WHERE r.description contains 'first order reaction'\n",
    "RETURN n.name as concept_1, m.name as concept_2,\n",
    "r.edge as r_edge, r.description as r_description\n",
    "\"\"\"\n",
    "run_query_and_return_df(query1)\n"
   ]
  },
  {
   "cell_type": "markdown",
   "id": "1a0de27d",
   "metadata": {},
   "source": [
    "### Leveraging LLM to generate cypher queries"
   ]
  },
  {
   "cell_type": "code",
   "execution_count": 11,
   "id": "7aa3e5b8",
   "metadata": {},
   "outputs": [],
   "source": [
    "#From Google Gemini AI to \n",
    "def to_markdown(text):\n",
    "  text = text.replace('•', '  *')\n",
    "  return Markdown(textwrap.indent(text, '> ', predicate=lambda _: True))"
   ]
  },
  {
   "cell_type": "code",
   "execution_count": 70,
   "id": "833557a7",
   "metadata": {},
   "outputs": [],
   "source": [
    "# Add a few more examples\n",
    "examples = \"\"\"\n",
    "# What are some of the concepts directly related to \"internal energy\"?\n",
    "MATCH (n)-[r]->(m)\n",
    "WHERE n.name CONTAINS 'internal energy' AND r.edge contains 'related'\n",
    "RETURN n.name as concept_1,\n",
    "r.edge as r_edge, r.description as r_description, m.name as concept_2\n",
    "\n",
    "# What is a first order reaction and associated entities?\n",
    "MATCH (n)-[r]->(m)\n",
    "WHERE r.description contains 'first order reaction'\n",
    "RETURN n.name as concept_1, m.name as concept_2,\n",
    "r.edge as r_edge, r.description as r_description\n",
    "\n",
    "\n",
    "# What is a first order reaction?\n",
    "MATCH (n)-[r]->(m)\n",
    "WHERE r.description contains 'first order reaction'\n",
    "RETURN r.description as r_description\n",
    "\n",
    "\n",
    "# What can you tell me about the homogeneous systems?\n",
    "MATCH (n)-[r]->(m)\n",
    "WHERE n.name CONTAINS 'homogeneous system' or m.name contains 'homogeneous system' or r.description contains 'homogeneous system' \n",
    "RETURN n.name as concept_1,\n",
    "r.edge as r_edge, r.description as r_description, m.name as concept_2\n",
    "\n",
    "# What are all the nodes related to chemical reaction\n",
    "MATCH (n:Concept {name: 'chemical equation'})--(m)\n",
    "RETURN n.name,m.name\n",
    "\n",
    "\n",
    "# Find all relationships for a specific keyword.\n",
    "MATCH ()-[r:RELATIONSHIP]->()\n",
    "where r.description contains 'energy'\n",
    "RETURN r.edge,r.description\n",
    "\n",
    "\n",
    "\"\"\"\n"
   ]
  },
  {
   "cell_type": "markdown",
   "id": "dc16f223",
   "metadata": {},
   "source": [
    "***Best practices when adding content in the context field of your prompt: Give the chatbot an identity and persona.An identity and persona helps the chatbot role play***"
   ]
  },
  {
   "cell_type": "code",
   "execution_count": 13,
   "id": "a43baa60",
   "metadata": {},
   "outputs": [],
   "source": [
    "## Creating system prompt for generating cyphers for Neo4jDB\n",
    "\n",
    "\n",
    "sys_prompt=f\"\"\" You are an AI system specializes in generating Neo4jDB Cypher queries based on example Cypher queries.\n",
    "Example Neo4jDB Cypher queries are: \\n {examples} \\n\n",
    "You will refrain from providing explanations or additional information and solely focus on generating the Neo4jDB cypher queries.\n",
    "You will strictly adhere to generating Neo4jDB cypher queries based on the given examples.\n",
    "However, if the context of the conversation is insufficient, you will inform the user and specify the missing context.\n",
    "I repeat, if the context of the conversation is insufficient please inform the user and specify the missing context.\n",
    "\"\"\"\n",
    "#Do not provide any AQL queries that can't be deduced from AQL query examples. \n"
   ]
  },
  {
   "cell_type": "code",
   "execution_count": 71,
   "id": "770991e5",
   "metadata": {},
   "outputs": [],
   "source": [
    "genai.configure(api_key=Google_API_KEY) #passing the api key\n",
    "\n",
    "#Passing system_instruction\n",
    "model=genai.GenerativeModel('gemini-1.5-pro-latest',system_instruction=[sys_prompt]) # calling the gen model"
   ]
  },
  {
   "cell_type": "code",
   "execution_count": 72,
   "id": "6c7d8154",
   "metadata": {},
   "outputs": [],
   "source": [
    "# Passing conversation history\n",
    "\n",
    "chat = model.start_chat(history=[\n",
    "    {\n",
    "        'role': 'user',\n",
    "        'parts':{ 'text': \"You are an AI system specializing in generating Neo4jDB Cypher queries based on example Cypher queries.You will refrain from providing explanations or additional information and solely focus on generating the Neo4jDB Cypher queries. You will strictly adhere to generating Neo4jDB Cypher queries based on the given examples. However, if the context of the conversation is insufficient, you will inform the user and specify the missing context.\"\n",
    "                }\n",
    "    },\n",
    "    {\n",
    "        'role': 'model',\n",
    "        'parts': {\n",
    "         \n",
    "                'text': \"Understood. I will only be writing Cypher queries for Neo4j DB.\"\n",
    "            }\n",
    "        \n",
    "    }\n",
    "])\n"
   ]
  },
  {
   "cell_type": "code",
   "execution_count": 73,
   "id": "ce083a3e",
   "metadata": {},
   "outputs": [],
   "source": [
    "\n",
    "user_input=\"Find all relationships for keyword 'quasi-static process'\"#\"What can you tell me about the 'quasi-static process'?\"\n",
    "response = chat.send_message(user_input,stream=False)"
   ]
  },
  {
   "cell_type": "code",
   "execution_count": 65,
   "id": "6eca7315",
   "metadata": {},
   "outputs": [],
   "source": [
    "## Passing function for chat response\n",
    "def get_chat_response(prompt: str):\n",
    "    text_response = []\n",
    "    responses = chat.send_message(prompt, stream=False)\n",
    "    for chunk in responses:\n",
    "        text_response.append(chunk.text)\n",
    "    return \"\".join(text_response)"
   ]
  },
  {
   "cell_type": "code",
   "execution_count": 74,
   "id": "6287ee82",
   "metadata": {},
   "outputs": [],
   "source": [
    "user_input=\"Find all relationships for keyword 'quasi-static process'\"\n",
    "response=get_chat_response(user_input)"
   ]
  },
  {
   "cell_type": "code",
   "execution_count": 75,
   "id": "d1f7bbe2",
   "metadata": {},
   "outputs": [
    {
     "data": {
      "text/plain": [
       "\"MATCH ()-[r:RELATIONSHIP]->()\\nwhere r.description contains 'quasi-static process'\\nRETURN r.edge,r.description \""
      ]
     },
     "execution_count": 75,
     "metadata": {},
     "output_type": "execute_result"
    }
   ],
   "source": [
    "response"
   ]
  },
  {
   "cell_type": "markdown",
   "id": "58f6c280",
   "metadata": {},
   "source": [
    "### Processing the cyphers and validating them"
   ]
  },
  {
   "cell_type": "markdown",
   "id": "5fd4c917",
   "metadata": {},
   "source": [
    "Note: have to standardise the output "
   ]
  },
  {
   "cell_type": "code",
   "execution_count": 41,
   "id": "2e867f00",
   "metadata": {},
   "outputs": [],
   "source": [
    "##Function to clean up the cypher\n",
    "import re\n",
    "pattern = pattern = r'```cypher\\n(.*?)\\n```'\n",
    "match = re.sub(pattern,\"\", cypher, flags=re.DOTALL)\n",
    "# Define the regex pattern to match the Cypher query\n",
    "pattern = r\"```cypher(.*?)```\"\n",
    "\n",
    "# Extract the Cypher query using regex\n",
    "cypher_query = re.search(pattern, cypher, re.DOTALL).group(1).strip()\n",
    "cypher_query\n",
    "\n",
    "pattern = r\"#(.*?)?\"\n",
    "\n",
    "cypher_query = re.sub(pattern,\"\", cypher_query, re.DOTALL)\n",
    "cypher_query"
   ]
  },
  {
   "cell_type": "code",
   "execution_count": 69,
   "id": "3a65951a",
   "metadata": {
    "scrolled": true
   },
   "outputs": [
    {
     "name": "stdout",
     "output_type": "stream",
     "text": [
      "\n",
      "MATCH ()-[r\n"
     ]
    }
   ],
   "source": [
    "##Final pattern \n",
    "pattern = r\"```cypher(.*?)```\"\n",
    "\n",
    "# Extract the Cypher query using regex\n",
    "cypher_query = re.search(pattern, response, re.DOTALL).group(1).strip()\n",
    "try:\n",
    "        print(cypher_query.split(\"?\")[1])\n",
    "except:\n",
    "         print(cypher_query.split(\":\")[1])\n",
    "    "
   ]
  },
  {
   "cell_type": "code",
   "execution_count": 84,
   "id": "a8517eb5",
   "metadata": {},
   "outputs": [],
   "source": [
    "# check for valid Neo4j cypher query\n",
    "def is_valid_cypher_query(query):\n",
    "    try:\n",
    "        with driver.session() as session:\n",
    "                result = session.run(query)\n",
    "                return pd.DataFrame([r.values() for r in result], columns=result.keys())\n",
    "\n",
    "    except Exception:\n",
    "        return False"
   ]
  },
  {
   "cell_type": "code",
   "execution_count": 85,
   "id": "d28cd46c",
   "metadata": {
    "collapsed": true
   },
   "outputs": [
    {
     "data": {
      "text/html": [
       "<div>\n",
       "<style scoped>\n",
       "    .dataframe tbody tr th:only-of-type {\n",
       "        vertical-align: middle;\n",
       "    }\n",
       "\n",
       "    .dataframe tbody tr th {\n",
       "        vertical-align: top;\n",
       "    }\n",
       "\n",
       "    .dataframe thead th {\n",
       "        text-align: right;\n",
       "    }\n",
       "</style>\n",
       "<table border=\"1\" class=\"dataframe\">\n",
       "  <thead>\n",
       "    <tr style=\"text-align: right;\">\n",
       "      <th></th>\n",
       "      <th>r.edge</th>\n",
       "      <th>r.description</th>\n",
       "    </tr>\n",
       "  </thead>\n",
       "  <tbody>\n",
       "    <tr>\n",
       "      <th>0</th>\n",
       "      <td>can-be</td>\n",
       "      <td>A quasi-static process can be an ideal gas in ...</td>\n",
       "    </tr>\n",
       "    <tr>\n",
       "      <th>1</th>\n",
       "      <td>is-a</td>\n",
       "      <td>a quasi-static process is a hypothetical const...</td>\n",
       "    </tr>\n",
       "    <tr>\n",
       "      <th>2</th>\n",
       "      <td>is-a</td>\n",
       "      <td>A quasi-static process is a nearly static proc...</td>\n",
       "    </tr>\n",
       "    <tr>\n",
       "      <th>3</th>\n",
       "      <td>is-a</td>\n",
       "      <td>A quasi-static process is a process in which t...</td>\n",
       "    </tr>\n",
       "    <tr>\n",
       "      <th>4</th>\n",
       "      <td>requires</td>\n",
       "      <td>A quasi-static process is a process that is in...</td>\n",
       "    </tr>\n",
       "    <tr>\n",
       "      <th>5</th>\n",
       "      <td>excludes</td>\n",
       "      <td>A quasi-static process is a process without di...</td>\n",
       "    </tr>\n",
       "    <tr>\n",
       "      <th>6</th>\n",
       "      <td>is-a</td>\n",
       "      <td>A quasi-static process is a reversible process...</td>\n",
       "    </tr>\n",
       "    <tr>\n",
       "      <th>7</th>\n",
       "      <td>is-a</td>\n",
       "      <td>A quasi-static process is a slow process, duri...</td>\n",
       "    </tr>\n",
       "    <tr>\n",
       "      <th>8</th>\n",
       "      <td>part-of</td>\n",
       "      <td>a quasi-static process is a specific type of p...</td>\n",
       "    </tr>\n",
       "    <tr>\n",
       "      <th>9</th>\n",
       "      <td>is-related-to</td>\n",
       "      <td>A quasi-static process is an idealized notion.</td>\n",
       "    </tr>\n",
       "    <tr>\n",
       "      <th>10</th>\n",
       "      <td>is-a</td>\n",
       "      <td>A reversible thermodynamic process is a quasi-...</td>\n",
       "    </tr>\n",
       "    <tr>\n",
       "      <th>11</th>\n",
       "      <td>is-related-to</td>\n",
       "      <td>in a quasi-static process, the change in work ...</td>\n",
       "    </tr>\n",
       "    <tr>\n",
       "      <th>12</th>\n",
       "      <td>is-a</td>\n",
       "      <td>In a quasi-static process, the difference in p...</td>\n",
       "    </tr>\n",
       "    <tr>\n",
       "      <th>13</th>\n",
       "      <td>is-a</td>\n",
       "      <td>In a quasi-static process, the external pressu...</td>\n",
       "    </tr>\n",
       "    <tr>\n",
       "      <th>14</th>\n",
       "      <td>is-a</td>\n",
       "      <td>In a quasi-static process, the system remains ...</td>\n",
       "    </tr>\n",
       "    <tr>\n",
       "      <th>15</th>\n",
       "      <td>is-a</td>\n",
       "      <td>In a quasi-static process, the temperature dif...</td>\n",
       "    </tr>\n",
       "    <tr>\n",
       "      <th>16</th>\n",
       "      <td>is-a</td>\n",
       "      <td>To change the temperature in a quasi-static pr...</td>\n",
       "    </tr>\n",
       "  </tbody>\n",
       "</table>\n",
       "</div>"
      ],
      "text/plain": [
       "           r.edge                                      r.description\n",
       "0          can-be  A quasi-static process can be an ideal gas in ...\n",
       "1            is-a  a quasi-static process is a hypothetical const...\n",
       "2            is-a  A quasi-static process is a nearly static proc...\n",
       "3            is-a  A quasi-static process is a process in which t...\n",
       "4        requires  A quasi-static process is a process that is in...\n",
       "5        excludes  A quasi-static process is a process without di...\n",
       "6            is-a  A quasi-static process is a reversible process...\n",
       "7            is-a  A quasi-static process is a slow process, duri...\n",
       "8         part-of  a quasi-static process is a specific type of p...\n",
       "9   is-related-to     A quasi-static process is an idealized notion.\n",
       "10           is-a  A reversible thermodynamic process is a quasi-...\n",
       "11  is-related-to  in a quasi-static process, the change in work ...\n",
       "12           is-a  In a quasi-static process, the difference in p...\n",
       "13           is-a  In a quasi-static process, the external pressu...\n",
       "14           is-a  In a quasi-static process, the system remains ...\n",
       "15           is-a  In a quasi-static process, the temperature dif...\n",
       "16           is-a  To change the temperature in a quasi-static pr..."
      ]
     },
     "execution_count": 85,
     "metadata": {},
     "output_type": "execute_result"
    }
   ],
   "source": [
    "is_valid_cypher_query(response)\n",
    "#session.run(response)"
   ]
  },
  {
   "cell_type": "markdown",
   "id": "5ec945c5",
   "metadata": {},
   "source": [
    "## References\n",
    "\n",
    "1. https://cloud.google.com/vertex-ai/generative-ai/docs/multimodal/send-chat-prompts-gemini\n",
    "2.https://cloud.google.com/vertex-ai/generative-ai/docs/chat/chat-prompts\n",
    "3. https://www.googlecloudcommunity.com/gc/AI-ML/Gemini-Pro-Context-Option/m-p/684704/highlight/true#M4159\n",
    "4.https://www.kaggle.com/code/rahulsingh04/chat-with-resume\n"
   ]
  }
 ],
 "metadata": {
  "kernelspec": {
   "display_name": "Python 3 (ipykernel)",
   "language": "python",
   "name": "python3"
  },
  "language_info": {
   "codemirror_mode": {
    "name": "ipython",
    "version": 3
   },
   "file_extension": ".py",
   "mimetype": "text/x-python",
   "name": "python",
   "nbconvert_exporter": "python",
   "pygments_lexer": "ipython3",
   "version": "3.9.5"
  },
  "toc": {
   "base_numbering": 1,
   "nav_menu": {},
   "number_sections": true,
   "sideBar": true,
   "skip_h1_title": false,
   "title_cell": "Table of Contents",
   "title_sidebar": "Contents",
   "toc_cell": false,
   "toc_position": {},
   "toc_section_display": true,
   "toc_window_display": false
  },
  "varInspector": {
   "cols": {
    "lenName": 16,
    "lenType": 16,
    "lenVar": 40
   },
   "kernels_config": {
    "python": {
     "delete_cmd_postfix": "",
     "delete_cmd_prefix": "del ",
     "library": "var_list.py",
     "varRefreshCmd": "print(var_dic_list())"
    },
    "r": {
     "delete_cmd_postfix": ") ",
     "delete_cmd_prefix": "rm(",
     "library": "var_list.r",
     "varRefreshCmd": "cat(var_dic_list()) "
    }
   },
   "types_to_exclude": [
    "module",
    "function",
    "builtin_function_or_method",
    "instance",
    "_Feature"
   ],
   "window_display": false
  }
 },
 "nbformat": 4,
 "nbformat_minor": 5
}
