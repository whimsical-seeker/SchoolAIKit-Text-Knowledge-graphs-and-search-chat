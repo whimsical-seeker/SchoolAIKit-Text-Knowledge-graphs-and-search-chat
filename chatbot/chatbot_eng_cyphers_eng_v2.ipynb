{
 "cells": [
  {
   "cell_type": "markdown",
   "id": "6b305daf",
   "metadata": {},
   "source": [
    "## Importing libraries"
   ]
  },
  {
   "cell_type": "code",
   "execution_count": 71,
   "id": "f22c402f",
   "metadata": {},
   "outputs": [],
   "source": [
    "from dotenv import load_dotenv\n",
    "import os\n",
    "from neo4j import GraphDatabase\n",
    "from py2neo import Graph\n",
    "import pandas as pd\n",
    "import neo4j\n"
   ]
  },
  {
   "cell_type": "code",
   "execution_count": 72,
   "id": "46221bd8",
   "metadata": {
    "scrolled": true
   },
   "outputs": [],
   "source": [
    "import pathlib\n",
    "import textwrap\n",
    "\n",
    "import google.generativeai as genai  # genai library\n",
    "from datetime import datetime\n",
    "from IPython.display import display\n",
    "from IPython.display import Markdown\n"
   ]
  },
  {
   "cell_type": "code",
   "execution_count": 73,
   "id": "e4e58baa",
   "metadata": {},
   "outputs": [],
   "source": [
    "load_dotenv() # Loading env file and reading credentials\n",
    "password=os.getenv('password')\n",
    "user=os.getenv('user')\n",
    "Google_API_KEY=os.getenv('Google_api_key') #Loading the keys"
   ]
  },
  {
   "cell_type": "markdown",
   "id": "d753150e",
   "metadata": {},
   "source": [
    "## Connecting to Neo4j database and example cyphers"
   ]
  },
  {
   "cell_type": "code",
   "execution_count": 74,
   "id": "62f2a448",
   "metadata": {},
   "outputs": [],
   "source": [
    "\n",
    "uri = \"bolt://localhost:7687\"\n",
    "user = user\n",
    "password = password\n",
    "#database_name = \"SchoolGPT.SchoolAI_dbms\"  # Specify your database name\n",
    "# add db name to avoid starting theough neo4j desktop\n",
    "driver = GraphDatabase.driver(uri, auth=(user, password))"
   ]
  },
  {
   "cell_type": "code",
   "execution_count": 75,
   "id": "0bb5c580",
   "metadata": {},
   "outputs": [],
   "source": [
    "query=\"MATCH (n)-[r]->(m) RETURN n, r, m LIMIT 10\"\n",
    "            #\"MATCH (n1:Node {name: 'system'}) RETURN n1 as node_name\" #write proper queries\n",
    "with driver.session() as session:\n",
    "    result = session.run(query)\n",
    "    n = [record['m'] for record in result]"
   ]
  },
  {
   "cell_type": "code",
   "execution_count": 76,
   "id": "369e1f6b",
   "metadata": {},
   "outputs": [
    {
     "data": {
      "text/plain": [
       "[<Node element_id='4:98090570-be37-47ad-8401-f00d9fdb559b:18' labels=frozenset({'Concept'}) properties={'name': 'heat'}>,\n",
       " <Node element_id='4:98090570-be37-47ad-8401-f00d9fdb559b:24' labels=frozenset({'Concept'}) properties={'name': 'work'}>,\n",
       " <Node element_id='4:98090570-be37-47ad-8401-f00d9fdb559b:10' labels=frozenset({'Concept'}) properties={'name': 'first law of thermodynamics'}>,\n",
       " <Node element_id='4:98090570-be37-47ad-8401-f00d9fdb559b:10' labels=frozenset({'Concept'}) properties={'name': 'first law of thermodynamics'}>,\n",
       " <Node element_id='4:98090570-be37-47ad-8401-f00d9fdb559b:10' labels=frozenset({'Concept'}) properties={'name': 'first law of thermodynamics'}>,\n",
       " <Node element_id='4:98090570-be37-47ad-8401-f00d9fdb559b:10' labels=frozenset({'Concept'}) properties={'name': 'first law of thermodynamics'}>,\n",
       " <Node element_id='4:98090570-be37-47ad-8401-f00d9fdb559b:108' labels=frozenset({'Concept'}) properties={'name': 'second law of thermodynamics'}>,\n",
       " <Node element_id='4:98090570-be37-47ad-8401-f00d9fdb559b:108' labels=frozenset({'Concept'}) properties={'name': 'second law of thermodynamics'}>,\n",
       " <Node element_id='4:98090570-be37-47ad-8401-f00d9fdb559b:109' labels=frozenset({'Concept'}) properties={'name': 'introduction'}>,\n",
       " <Node element_id='4:98090570-be37-47ad-8401-f00d9fdb559b:110' labels=frozenset({'Concept'}) properties={'name': 'fluid'}>]"
      ]
     },
     "execution_count": 76,
     "metadata": {},
     "output_type": "execute_result"
    }
   ],
   "source": [
    "n ## sample query and output"
   ]
  },
  {
   "cell_type": "markdown",
   "id": "374086bf",
   "metadata": {},
   "source": [
    "### Displaying cypher query responses as pandas df"
   ]
  },
  {
   "cell_type": "code",
   "execution_count": 77,
   "id": "8f856ba6",
   "metadata": {},
   "outputs": [],
   "source": [
    "#Function to query the graph and return the results as a pandas dataframe\n",
    "def run_query_and_return_df(query):\n",
    "    with driver.session() as session:\n",
    "        result = session.run(query)\n",
    "        return pd.DataFrame([r.values() for r in result], columns=result.keys())\n"
   ]
  },
  {
   "cell_type": "code",
   "execution_count": 78,
   "id": "d185e37e",
   "metadata": {
    "scrolled": true
   },
   "outputs": [],
   "source": [
    "query1 = \"\"\"\n",
    "MATCH (n)-[r]->(m)\n",
    "WHERE r.description contains 'first order reaction'\n",
    "RETURN n.name as concept_1, m.name as concept_2,\n",
    "r.edge as r_edge, r.description as r_description\n",
    "\"\"\"\n",
    "l=run_query_and_return_df(query1)\n"
   ]
  },
  {
   "cell_type": "code",
   "execution_count": 80,
   "id": "7241d0d0",
   "metadata": {
    "collapsed": true
   },
   "outputs": [
    {
     "data": {
      "text/html": [
       "<div>\n",
       "<style scoped>\n",
       "    .dataframe tbody tr th:only-of-type {\n",
       "        vertical-align: middle;\n",
       "    }\n",
       "\n",
       "    .dataframe tbody tr th {\n",
       "        vertical-align: top;\n",
       "    }\n",
       "\n",
       "    .dataframe thead th {\n",
       "        text-align: right;\n",
       "    }\n",
       "</style>\n",
       "<table border=\"1\" class=\"dataframe\">\n",
       "  <thead>\n",
       "    <tr style=\"text-align: right;\">\n",
       "      <th></th>\n",
       "      <th>concept_1</th>\n",
       "      <th>concept_2</th>\n",
       "      <th>r_edge</th>\n",
       "      <th>r_description</th>\n",
       "    </tr>\n",
       "  </thead>\n",
       "  <tbody>\n",
       "    <tr>\n",
       "      <th>0</th>\n",
       "      <td>first order reaction</td>\n",
       "      <td>3.18</td>\n",
       "      <td>semantic relationship: dependency</td>\n",
       "      <td>a first order reaction follows a specific rate...</td>\n",
       "    </tr>\n",
       "    <tr>\n",
       "      <th>1</th>\n",
       "      <td>rate constant (k)</td>\n",
       "      <td>first order reaction</td>\n",
       "      <td>is-a</td>\n",
       "      <td>A first order reaction has a unique rate const...</td>\n",
       "    </tr>\n",
       "    <tr>\n",
       "      <th>2</th>\n",
       "      <td>rate</td>\n",
       "      <td>ra</td>\n",
       "      <td>is-a</td>\n",
       "      <td>amount of substance (ra) that undergoes a chem...</td>\n",
       "    </tr>\n",
       "    <tr>\n",
       "      <th>3</th>\n",
       "      <td>n2o5</td>\n",
       "      <td>time (t)</td>\n",
       "      <td>mathematical relationship</td>\n",
       "      <td>direct proportionality between the concentrati...</td>\n",
       "    </tr>\n",
       "    <tr>\n",
       "      <th>4</th>\n",
       "      <td>first order reaction</td>\n",
       "      <td>rate constant (k)</td>\n",
       "      <td>is-a</td>\n",
       "      <td>direct relationship between the rate of a firs...</td>\n",
       "    </tr>\n",
       "    <tr>\n",
       "      <th>5</th>\n",
       "      <td>ra</td>\n",
       "      <td>he (g)</td>\n",
       "      <td>is-a</td>\n",
       "      <td>first order reaction between ra and he to form...</td>\n",
       "    </tr>\n",
       "    <tr>\n",
       "      <th>6</th>\n",
       "      <td>half-life period</td>\n",
       "      <td>first order reaction</td>\n",
       "      <td>is-related-to</td>\n",
       "      <td>For a first order reaction, the half-life peri...</td>\n",
       "    </tr>\n",
       "    <tr>\n",
       "      <th>7</th>\n",
       "      <td>initial concentration [r]0</td>\n",
       "      <td>half-life period (t1/2)</td>\n",
       "      <td>is-independent-of</td>\n",
       "      <td>For a first order reaction, the half-life peri...</td>\n",
       "    </tr>\n",
       "    <tr>\n",
       "      <th>8</th>\n",
       "      <td>first order reactions</td>\n",
       "      <td>rate of reaction</td>\n",
       "      <td>is-related-to</td>\n",
       "      <td>in first order reactions, the rate is directly...</td>\n",
       "    </tr>\n",
       "    <tr>\n",
       "      <th>9</th>\n",
       "      <td>k</td>\n",
       "      <td>rate constant</td>\n",
       "      <td>is-related-to</td>\n",
       "      <td>k is the rate constant for a first order react...</td>\n",
       "    </tr>\n",
       "    <tr>\n",
       "      <th>10</th>\n",
       "      <td>log[n2o5]</td>\n",
       "      <td>time (t)</td>\n",
       "      <td>mathematical relationship</td>\n",
       "      <td>linear proportionality between logarithm of th...</td>\n",
       "    </tr>\n",
       "    <tr>\n",
       "      <th>11</th>\n",
       "      <td>log</td>\n",
       "      <td>time (t)</td>\n",
       "      <td>semantic relationship</td>\n",
       "      <td>mathematical relationship between the common l...</td>\n",
       "    </tr>\n",
       "    <tr>\n",
       "      <th>12</th>\n",
       "      <td>log</td>\n",
       "      <td>r (remaining concentration)</td>\n",
       "      <td>semantic relationship</td>\n",
       "      <td>mathematical relationship between the common l...</td>\n",
       "    </tr>\n",
       "    <tr>\n",
       "      <th>13</th>\n",
       "      <td>ln</td>\n",
       "      <td>time (t)</td>\n",
       "      <td>semantic relationship</td>\n",
       "      <td>mathematical relationship between the natural ...</td>\n",
       "    </tr>\n",
       "    <tr>\n",
       "      <th>14</th>\n",
       "      <td>r</td>\n",
       "      <td>reactant</td>\n",
       "      <td>part-of</td>\n",
       "      <td>r is a reactant in first order reactions.</td>\n",
       "    </tr>\n",
       "    <tr>\n",
       "      <th>15</th>\n",
       "      <td>initial concentration</td>\n",
       "      <td>n2o5 (g)</td>\n",
       "      <td>is-a</td>\n",
       "      <td>relation between the initial concentration of ...</td>\n",
       "    </tr>\n",
       "    <tr>\n",
       "      <th>16</th>\n",
       "      <td>rate constant (k)</td>\n",
       "      <td>half-life period</td>\n",
       "      <td>derives-from</td>\n",
       "      <td>The half-life period for a first order reactio...</td>\n",
       "    </tr>\n",
       "    <tr>\n",
       "      <th>17</th>\n",
       "      <td>[d r [ ] r]</td>\n",
       "      <td>rate equation</td>\n",
       "      <td>is-a</td>\n",
       "      <td>the rate equation for a first order reaction i...</td>\n",
       "    </tr>\n",
       "    <tr>\n",
       "      <th>18</th>\n",
       "      <td>t (sec)</td>\n",
       "      <td>3.2</td>\n",
       "      <td>semantic relationship: dependency</td>\n",
       "      <td>the time required for 30% decomposition of a f...</td>\n",
       "    </tr>\n",
       "    <tr>\n",
       "      <th>19</th>\n",
       "      <td>t1/2</td>\n",
       "      <td>3.19</td>\n",
       "      <td>semantic relationship: dependency</td>\n",
       "      <td>the time taken for 50% completion of a first o...</td>\n",
       "    </tr>\n",
       "    <tr>\n",
       "      <th>20</th>\n",
       "      <td>rate constant</td>\n",
       "      <td>half-life period</td>\n",
       "      <td>mathematical relationship</td>\n",
       "      <td>the value of the rate constant (k) can be used...</td>\n",
       "    </tr>\n",
       "    <tr>\n",
       "      <th>21</th>\n",
       "      <td>n2o5</td>\n",
       "      <td>half-life period</td>\n",
       "      <td>semantic relationship</td>\n",
       "      <td>time required for the concentration of N2O5 to...</td>\n",
       "    </tr>\n",
       "  </tbody>\n",
       "</table>\n",
       "</div>"
      ],
      "text/plain": [
       "                     concept_1                    concept_2  \\\n",
       "0         first order reaction                         3.18   \n",
       "1            rate constant (k)         first order reaction   \n",
       "2                         rate                           ra   \n",
       "3                         n2o5                     time (t)   \n",
       "4         first order reaction            rate constant (k)   \n",
       "5                           ra                       he (g)   \n",
       "6             half-life period         first order reaction   \n",
       "7   initial concentration [r]0      half-life period (t1/2)   \n",
       "8        first order reactions             rate of reaction   \n",
       "9                            k                rate constant   \n",
       "10                   log[n2o5]                     time (t)   \n",
       "11                         log                     time (t)   \n",
       "12                         log  r (remaining concentration)   \n",
       "13                          ln                     time (t)   \n",
       "14                           r                     reactant   \n",
       "15       initial concentration                     n2o5 (g)   \n",
       "16           rate constant (k)             half-life period   \n",
       "17                 [d r [ ] r]                rate equation   \n",
       "18                     t (sec)                          3.2   \n",
       "19                        t1/2                         3.19   \n",
       "20               rate constant             half-life period   \n",
       "21                        n2o5             half-life period   \n",
       "\n",
       "                               r_edge  \\\n",
       "0   semantic relationship: dependency   \n",
       "1                                is-a   \n",
       "2                                is-a   \n",
       "3           mathematical relationship   \n",
       "4                                is-a   \n",
       "5                                is-a   \n",
       "6                       is-related-to   \n",
       "7                   is-independent-of   \n",
       "8                       is-related-to   \n",
       "9                       is-related-to   \n",
       "10          mathematical relationship   \n",
       "11              semantic relationship   \n",
       "12              semantic relationship   \n",
       "13              semantic relationship   \n",
       "14                            part-of   \n",
       "15                               is-a   \n",
       "16                       derives-from   \n",
       "17                               is-a   \n",
       "18  semantic relationship: dependency   \n",
       "19  semantic relationship: dependency   \n",
       "20          mathematical relationship   \n",
       "21              semantic relationship   \n",
       "\n",
       "                                        r_description  \n",
       "0   a first order reaction follows a specific rate...  \n",
       "1   A first order reaction has a unique rate const...  \n",
       "2   amount of substance (ra) that undergoes a chem...  \n",
       "3   direct proportionality between the concentrati...  \n",
       "4   direct relationship between the rate of a firs...  \n",
       "5   first order reaction between ra and he to form...  \n",
       "6   For a first order reaction, the half-life peri...  \n",
       "7   For a first order reaction, the half-life peri...  \n",
       "8   in first order reactions, the rate is directly...  \n",
       "9   k is the rate constant for a first order react...  \n",
       "10  linear proportionality between logarithm of th...  \n",
       "11  mathematical relationship between the common l...  \n",
       "12  mathematical relationship between the common l...  \n",
       "13  mathematical relationship between the natural ...  \n",
       "14          r is a reactant in first order reactions.  \n",
       "15  relation between the initial concentration of ...  \n",
       "16  The half-life period for a first order reactio...  \n",
       "17  the rate equation for a first order reaction i...  \n",
       "18  the time required for 30% decomposition of a f...  \n",
       "19  the time taken for 50% completion of a first o...  \n",
       "20  the value of the rate constant (k) can be used...  \n",
       "21  time required for the concentration of N2O5 to...  "
      ]
     },
     "execution_count": 80,
     "metadata": {},
     "output_type": "execute_result"
    }
   ],
   "source": [
    "l"
   ]
  },
  {
   "cell_type": "markdown",
   "id": "a7af6942",
   "metadata": {},
   "source": [
    "## Leveraging LLM to generate cypher queries"
   ]
  },
  {
   "cell_type": "code",
   "execution_count": 81,
   "id": "7870fa65",
   "metadata": {},
   "outputs": [],
   "source": [
    "#From Google Gemini AI to \n",
    "def to_markdown(text):\n",
    "  text = text.replace('•', '  *')\n",
    "  return Markdown(textwrap.indent(text, '> ', predicate=lambda _: True))"
   ]
  },
  {
   "cell_type": "code",
   "execution_count": 82,
   "id": "ee020387",
   "metadata": {},
   "outputs": [],
   "source": [
    "# Add a few more examples\n",
    "examples = \"\"\"\n",
    "# What are some of the concepts directly related to \"internal energy\"?\n",
    "MATCH (n)-[r]->(m)\n",
    "WHERE n.name CONTAINS 'internal energy' AND r.edge contains 'related'\n",
    "RETURN n.name as concept_1,\n",
    "r.edge as r_edge, r.description as r_description, m.name as concept_2\n",
    "\n",
    "# What is a first order reaction and associated entities?\n",
    "MATCH (n)-[r]->(m)\n",
    "WHERE r.description contains 'first order reaction'\n",
    "RETURN n.name as concept_1, m.name as concept_2,\n",
    "r.edge as r_edge, r.description as r_description\n",
    "\n",
    "\n",
    "# What is a first order reaction?\n",
    "MATCH (n)-[r]->(m)\n",
    "WHERE r.description contains 'first order reaction'\n",
    "RETURN r.description as r_description\n",
    "\n",
    "\n",
    "# What can you tell me about the homogeneous systems?\n",
    "MATCH (n)-[r]->(m)\n",
    "WHERE n.name CONTAINS 'homogeneous system' or m.name contains 'homogeneous system' or r.description contains 'homogeneous system' \n",
    "RETURN n.name as concept_1,\n",
    "r.edge as r_edge, r.description as r_description, m.name as concept_2\n",
    "\n",
    "# What are all the nodes related to chemical reaction\n",
    "MATCH (n:Concept {name: 'chemical equation'})--(m)\n",
    "RETURN n.name,m.name\n",
    "\n",
    "\n",
    "# Find all relationships for a specific keyword.\n",
    "MATCH ()-[r:RELATIONSHIP]->()\n",
    "where r.description contains 'energy'\n",
    "RETURN r.edge,r.description\n",
    "\n",
    "\n",
    "\n",
    "\"\"\"\n"
   ]
  },
  {
   "cell_type": "markdown",
   "id": "fbb0c972",
   "metadata": {},
   "source": [
    "***Best practices when adding content in the context field of your prompt: Give the chatbot an identity and persona.An identity and persona helps the chatbot role play***"
   ]
  },
  {
   "cell_type": "code",
   "execution_count": 83,
   "id": "c4065014",
   "metadata": {},
   "outputs": [],
   "source": [
    "## Creating system prompt for generating cyphers for Neo4jDB\n",
    "\n",
    "\n",
    "sys_prompt=f\"\"\" You are an AI system specializes in generating Neo4jDB Cypher queries based on example Cypher queries.\n",
    "Example Neo4jDB Cypher queries are: \\n {examples} \\n\n",
    "You will refrain from providing explanations or additional information and solely focus on generating the Neo4jDB cypher queries.\n",
    "You will strictly adhere to generating Neo4jDB cypher queries based on the given examples.\n",
    "However, if the context of the conversation is insufficient, you will inform the user and specify the missing context.\n",
    "I repeat, if the context of the conversation is insufficient please inform the user and specify the missing context.\n",
<<<<<<< HEAD
    "\"\"\""
=======
    "\"\"\"\n",
  
>>>>>>> 8d4df02de65d626489912937eec5d7ed7ee0010b
   ]
  },
  {
   "cell_type": "code",
   "execution_count": 136,
   "id": "e301cf45",
   "metadata": {},
   "outputs": [
    {
     "name": "stdout",
     "output_type": "stream",
     "text": [
      "models/gemini-1.0-pro\n",
      "models/gemini-1.0-pro-001\n",
      "models/gemini-1.0-pro-latest\n",
      "models/gemini-1.0-pro-vision-latest\n",
      "models/gemini-1.5-pro-latest\n",
      "models/gemini-pro\n",
      "models/gemini-pro-vision\n"
     ]
    }
   ],
   "source": [
    "for m in genai.list_models():\n",
    "        if 'generateContent' in m.supported_generation_methods:\n",
    "            print(m.name)"
   ]
  },
  {
   "cell_type": "code",
   "execution_count": 103,
   "id": "9e96c6fb",
   "metadata": {},
   "outputs": [],
   "source": [
    "genai.configure(api_key=Google_API_KEY) #passing the api key\n",
    "\n",
    "#Passing system_instruction\n",
    "model=genai.GenerativeModel('gemini-1.5-pro-latest',system_instruction=[sys_prompt]) # calling the gen model"
   ]
  },
  {
   "cell_type": "code",
   "execution_count": 104,
   "id": "f747d20d",
   "metadata": {},
   "outputs": [],
   "source": [
    "# Passing conversation history\n",
    "\n",
    "chat = model.start_chat(history=[\n",
    "    {\n",
    "        'role': 'user',\n",
    "        'parts':{ 'text': \"You are an AI system specializing in generating Neo4jDB Cypher queries based on example Cypher queries.You will refrain from providing explanations or additional information and solely focus on generating the Neo4jDB Cypher queries. You will strictly adhere to generating Neo4jDB Cypher queries based on the given examples. However, if the context of the conversation is insufficient, you will inform the user and specify the missing context.\"\n",
    "                }\n",
    "    },\n",
    "    {\n",
    "        'role': 'model',\n",
    "        'parts': {\n",
    "         \n",
    "                'text': \"Understood. I will only be writing Cypher queries for Neo4j DB.\"\n",
    "            }\n",
    "        \n",
    "    }\n",
    "])\n"
   ]
  },
  {
   "cell_type": "code",
   "execution_count": 105,
   "id": "9d13bcbd",
   "metadata": {},
   "outputs": [],
   "source": [
    "\n",
    "user_input=\"Find all relationships for keyword 'quasi-static process'\"#\"What can you tell me about the 'quasi-static process'?\"\n",
    "response = chat.send_message(user_input,stream=False)"
   ]
  },
  {
   "cell_type": "code",
   "execution_count": 93,
   "id": "25d6fbe3",
   "metadata": {},
   "outputs": [],
   "source": [
    "## Passing function for chat response\n",
    "def get_chat_response(prompt: str):\n",
    "    text_response = []\n",
    "    responses = chat.send_message(prompt, stream=False)\n",
    "    for chunk in responses:\n",
    "        text_response.append(chunk.text)\n",
    "    return \"\".join(text_response)"
   ]
  },
  {
   "cell_type": "code",
   "execution_count": 107,
   "id": "74f2baf5",
   "metadata": {},
   "outputs": [],
   "source": [
    "user_input=\"Find all relationships for keyword 'quasi-static process'\"\n",
    "cypher=get_chat_response(user_input)"
   ]
  },
  {
   "cell_type": "code",
   "execution_count": 108,
   "id": "06eab39b",
   "metadata": {},
   "outputs": [
    {
     "data": {
      "text/plain": [
       "\"MATCH ()-[r:RELATIONSHIP]->()\\nwhere r.description contains 'quasi-static process'\\nRETURN r.edge,r.description \\n\""
      ]
     },
     "execution_count": 108,
     "metadata": {},
     "output_type": "execute_result"
    }
   ],
   "source": [
    "cypher"
   ]
  },
  {
   "cell_type": "markdown",
   "id": "88979629",
   "metadata": {},
   "source": [
    "### Processing the cyphers and validating them"
   ]
  },
  {
   "cell_type": "markdown",
   "id": "6ccae610",
   "metadata": {},
   "source": [
    "Note: have to standardise the output "
   ]
  },
  {
   "cell_type": "code",
   "execution_count": 110,
   "id": "2cb04aa9",
   "metadata": {},
   "outputs": [],
   "source": [
    "cypher=response"
   ]
  },
  {
   "cell_type": "code",
   "execution_count": 109,
   "id": "0518245d",
   "metadata": {
    "collapsed": true
   },
   "outputs": [
    {
     "ename": "NameError",
     "evalue": "name 'cypher' is not defined",
     "output_type": "error",
     "traceback": [
      "\u001b[1;31m---------------------------------------------------------------------------\u001b[0m",
      "\u001b[1;31mNameError\u001b[0m                                 Traceback (most recent call last)",
      "Input \u001b[1;32mIn [109]\u001b[0m, in \u001b[0;36m<cell line: 4>\u001b[1;34m()\u001b[0m\n\u001b[0;32m      2\u001b[0m \u001b[38;5;28;01mimport\u001b[39;00m \u001b[38;5;21;01mre\u001b[39;00m\n\u001b[0;32m      3\u001b[0m pattern \u001b[38;5;241m=\u001b[39m pattern \u001b[38;5;241m=\u001b[39m \u001b[38;5;124mr\u001b[39m\u001b[38;5;124m'\u001b[39m\u001b[38;5;124m```cypher\u001b[39m\u001b[38;5;124m\\\u001b[39m\u001b[38;5;124mn(.*?)\u001b[39m\u001b[38;5;124m\\\u001b[39m\u001b[38;5;124mn```\u001b[39m\u001b[38;5;124m'\u001b[39m\n\u001b[1;32m----> 4\u001b[0m match \u001b[38;5;241m=\u001b[39m re\u001b[38;5;241m.\u001b[39msub(pattern,\u001b[38;5;124m\"\u001b[39m\u001b[38;5;124m\"\u001b[39m, \u001b[43mcypher\u001b[49m, flags\u001b[38;5;241m=\u001b[39mre\u001b[38;5;241m.\u001b[39mDOTALL)\n\u001b[0;32m      5\u001b[0m \u001b[38;5;66;03m# Define the regex pattern to match the Cypher query\u001b[39;00m\n\u001b[0;32m      6\u001b[0m pattern \u001b[38;5;241m=\u001b[39m \u001b[38;5;124mr\u001b[39m\u001b[38;5;124m\"\u001b[39m\u001b[38;5;124m```cypher(.*?)```\u001b[39m\u001b[38;5;124m\"\u001b[39m\n",
      "\u001b[1;31mNameError\u001b[0m: name 'cypher' is not defined"
     ]
    }
   ],
   "source": [
    "##Function to clean up the cypher\n",
    "import re\n",
    "pattern = pattern = r'```cypher\\n(.*?)\\n```'\n",
    "match = re.sub(pattern,\"\", cypher, flags=re.DOTALL)\n",
    "# Define the regex pattern to match the Cypher query\n",
    "pattern = r\"```cypher(.*?)```\"\n",
    "\n",
    "# Extract the Cypher query using regex\n",
    "cypher_query = re.search(pattern, cypher, re.DOTALL).group(1).strip()\n",
    "cypher_query\n",
    "\n",
    "pattern = r\"#(.*?)?\"\n",
    "\n",
    "cypher_query = re.sub(pattern,\"\", cypher_query, re.DOTALL)\n",
    "cypher_query"
   ]
  },
  {
   "cell_type": "code",
   "execution_count": 90,
   "id": "037ebcf8",
   "metadata": {},
   "outputs": [
    {
     "name": "stdout",
     "output_type": "stream",
     "text": [
      "RELATIONSHIP]->()\n",
      "where r.description contains 'quasi-static process'\n",
      "RETURN r.edge,r.description\n"
     ]
    }
   ],
   "source": [
    "##Final pattern \n",
    "import re\n",
    "pattern = r\"```cypher(.*?)```\"\n",
    "\n",
    "# Extract the Cypher query using regex\n",
    "cypher_query = re.search(pattern, response, re.DOTALL).group(1).strip()\n",
    "try:\n",
    "        print(cypher_query.split(\"?\")[1])\n",
    "except:\n",
    "         print(cypher_query.split(\":\")[1])\n",
    "    "
   ]
  },
  {
   "cell_type": "code",
   "execution_count": 111,
   "id": "0228a463",
   "metadata": {},
   "outputs": [],
   "source": [
    "# check for valid Neo4j cypher query\n",
    "def is_valid_cypher_query(query):\n",
    "    try:\n",
    "        with driver.session() as session:\n",
    "                result = session.run(query)\n",
    "                return True    #pd.DataFrame([r.values() for r in result], columns=result.keys())\n",
    "\n",
    "    except Exception:\n",
    "        return False"
   ]
  },
  {
   "cell_type": "code",
   "execution_count": 112,
   "id": "398572a6",
   "metadata": {},
   "outputs": [
    {
     "data": {
      "text/plain": [
       "True"
      ]
     },
     "execution_count": 112,
     "metadata": {},
     "output_type": "execute_result"
    }
   ],
   "source": [
    "is_valid_cypher_query(response)\n",
    "#session.run(response)"
   ]
  },
  {
   "cell_type": "code",
   "execution_count": 113,
   "id": "8933260f",
   "metadata": {},
   "outputs": [],
   "source": [
    "class schoolaiChatbot():\n",
    "    def __init__(self, filename=\"chat_hist_test.txt\"):\n",
    "        self.history=[]\n",
    "        self.filename=filename\n",
    "        #self.query=query\n",
    "        \n",
    "    def add_message(self,role,text):\n",
    "        timestamp=datetime.now().strftime(\"%Y-%m-%d %H:%M:%S\")\n",
    "        self.history.append({'role':role,'text':text,'timestamp':timestamp})\n",
    "    \n",
    "    def display(self):\n",
    "        for message in self.history:\n",
    "            print(f\"{message['role']}:{message['text']}\\n\")\n",
    "    \n",
    "    def is_valid_cypher_query(self,response):\n",
    "        try:\n",
    "            with driver.session() as session:\n",
    "                    result = session.run(response)\n",
    "                    return True    #pd.DataFrame([r.values() for r in result], columns=result.keys())\n",
    "\n",
    "        except Exception:\n",
    "            return False\n",
    "        \n",
    "        \n",
    "    def run_query_and_return_df(self,response):\n",
    "            with driver.session() as session:\n",
    "                result = session.run(response)\n",
    "                return [r.values() for r in result] #pd.DataFrame([r.values() for r in result], columns=result.keys())\n",
    "\n",
    "\n",
    "\n"
   ]
  },
  {
   "cell_type": "code",
   "execution_count": 114,
   "id": "f2cf746a",
   "metadata": {},
   "outputs": [],
   "source": [
    "chat_test=schoolaiChatbot(user_input)"
   ]
  },
  {
   "cell_type": "code",
   "execution_count": 115,
   "id": "bdc89b07",
   "metadata": {},
   "outputs": [],
   "source": [
    "chat_test.add_message('user',user_input)"
   ]
  },
  {
   "cell_type": "code",
   "execution_count": 117,
   "id": "15a83168",
   "metadata": {},
   "outputs": [
    {
     "name": "stdout",
     "output_type": "stream",
     "text": [
      "user:Find all relationships for keyword 'quasi-static process'\n",
      "\n"
     ]
    }
   ],
   "source": [
    "chat_test.display()\n",
    "is_cypher=chat_test.is_valid_cypher_query(response)\n",
    "if is_cypher:\n",
    "    graph_db_op=chat_test.run_query_and_return_df(response)"
   ]
  },
  {
   "cell_type": "code",
   "execution_count": 122,
   "id": "035b9357",
   "metadata": {
    "collapsed": true
   },
   "outputs": [
    {
     "data": {
      "text/plain": [
       "[['can-be',\n",
       "  'A quasi-static process can be an ideal gas in a cylinder fitted with a frictionless movable piston.'],\n",
       " ['is-a',\n",
       "  'a quasi-static process is a hypothetical construct, and an ideal quasi-static process is a specific type of quasi-static process that approximates the behavior of real processes in certain conditions'],\n",
       " ['is-a',\n",
       "  'A quasi-static process is a nearly static process, meaning that it proceeds at such a slow rate that the system can remain in thermal and mechanical equilibrium with its surroundings throughout.'],\n",
       " ['is-a',\n",
       "  'A quasi-static process is a process in which the system changes its variables (p, t, v) infinitely slowly, allowing it to remain in thermal and mechanical equilibrium with its surroundings throughout.'],\n",
       " ['requires',\n",
       "  'A quasi-static process is a process that is in equilibrium with the surroundings at every stage.'],\n",
       " ['excludes',\n",
       "  'A quasi-static process is a process without dissipative effects.'],\n",
       " ['is-a',\n",
       "  'A quasi-static process is a reversible process in which the system undergoes infinitesimal changes at every stage. This ensures that the thermodynamic properties of the system remain unchanged, and the process can be reversed.'],\n",
       " ['is-a',\n",
       "  'A quasi-static process is a slow process, during which the system changes its variables (p, t, v) so slowly that it can remain in thermal and mechanical equilibrium with its surroundings throughout.'],\n",
       " ['part-of',\n",
       "  'a quasi-static process is a specific type of process that occurs slowly and without accelerated motion or large temperature gradients'],\n",
       " ['is-related-to', 'A quasi-static process is an idealized notion.'],\n",
       " ['is-a', 'A reversible thermodynamic process is a quasi-static process.'],\n",
       " ['is-related-to',\n",
       "  'in a quasi-static process, the change in work (∆w) is equal to the product of pressure (p) and the change in volume (∆v)'],\n",
       " ['is-a',\n",
       "  'In a quasi-static process, the difference in pressure between the system and its surroundings is infinitesimally small at every stage.'],\n",
       " ['is-a',\n",
       "  'In a quasi-static process, the external pressure is changed by a very small amount to change the state of the system.'],\n",
       " ['is-a',\n",
       "  'In a quasi-static process, the system remains in thermal and mechanical equilibrium with its surroundings throughout.'],\n",
       " ['is-a',\n",
       "  'In a quasi-static process, the temperature difference between the system and its surroundings is infinitesimally small at every stage.'],\n",
       " ['is-a',\n",
       "  'To change the temperature in a quasi-static process, reservoirs of progressively different temperatures are introduced.']]"
      ]
     },
     "execution_count": 122,
     "metadata": {},
     "output_type": "execute_result"
    }
   ],
   "source": [
    "len(graph_db_op)\n",
    "graph_db_op\n"
   ]
  },
  {
   "cell_type": "markdown",
   "id": "200c16ca",
   "metadata": {},
   "source": [
    "## Creating the last interface with the chatbot"
   ]
  },
  {
   "cell_type": "code",
   "execution_count": 123,
   "id": "7997d2a4",
   "metadata": {},
   "outputs": [],
   "source": [
    "def format_context(context_list):\n",
    "    formatted_prompt = \"Context:\\n\"\n",
    "    for idx, item in enumerate(context_list, start=1):\n",
    "        formatted_prompt += f\"{idx}. Relation: '{item[0]}'\\n   Definition: '{item[1]}'\\n\\n\"\n",
    "    return formatted_prompt"
   ]
  },
  {
   "cell_type": "code",
   "execution_count": 124,
   "id": "2112737a",
   "metadata": {
    "collapsed": true
   },
   "outputs": [
    {
     "data": {
      "text/plain": [
       "\"Context:\\n1. Relation: 'can-be'\\n   Definition: 'A quasi-static process can be an ideal gas in a cylinder fitted with a frictionless movable piston.'\\n\\n2. Relation: 'is-a'\\n   Definition: 'a quasi-static process is a hypothetical construct, and an ideal quasi-static process is a specific type of quasi-static process that approximates the behavior of real processes in certain conditions'\\n\\n3. Relation: 'is-a'\\n   Definition: 'A quasi-static process is a nearly static process, meaning that it proceeds at such a slow rate that the system can remain in thermal and mechanical equilibrium with its surroundings throughout.'\\n\\n4. Relation: 'is-a'\\n   Definition: 'A quasi-static process is a process in which the system changes its variables (p, t, v) infinitely slowly, allowing it to remain in thermal and mechanical equilibrium with its surroundings throughout.'\\n\\n5. Relation: 'requires'\\n   Definition: 'A quasi-static process is a process that is in equilibrium with the surroundings at every stage.'\\n\\n6. Relation: 'excludes'\\n   Definition: 'A quasi-static process is a process without dissipative effects.'\\n\\n7. Relation: 'is-a'\\n   Definition: 'A quasi-static process is a reversible process in which the system undergoes infinitesimal changes at every stage. This ensures that the thermodynamic properties of the system remain unchanged, and the process can be reversed.'\\n\\n8. Relation: 'is-a'\\n   Definition: 'A quasi-static process is a slow process, during which the system changes its variables (p, t, v) so slowly that it can remain in thermal and mechanical equilibrium with its surroundings throughout.'\\n\\n9. Relation: 'part-of'\\n   Definition: 'a quasi-static process is a specific type of process that occurs slowly and without accelerated motion or large temperature gradients'\\n\\n10. Relation: 'is-related-to'\\n   Definition: 'A quasi-static process is an idealized notion.'\\n\\n11. Relation: 'is-a'\\n   Definition: 'A reversible thermodynamic process is a quasi-static process.'\\n\\n12. Relation: 'is-related-to'\\n   Definition: 'in a quasi-static process, the change in work (∆w) is equal to the product of pressure (p) and the change in volume (∆v)'\\n\\n13. Relation: 'is-a'\\n   Definition: 'In a quasi-static process, the difference in pressure between the system and its surroundings is infinitesimally small at every stage.'\\n\\n14. Relation: 'is-a'\\n   Definition: 'In a quasi-static process, the external pressure is changed by a very small amount to change the state of the system.'\\n\\n15. Relation: 'is-a'\\n   Definition: 'In a quasi-static process, the system remains in thermal and mechanical equilibrium with its surroundings throughout.'\\n\\n16. Relation: 'is-a'\\n   Definition: 'In a quasi-static process, the temperature difference between the system and its surroundings is infinitesimally small at every stage.'\\n\\n17. Relation: 'is-a'\\n   Definition: 'To change the temperature in a quasi-static process, reservoirs of progressively different temperatures are introduced.'\\n\\n\""
      ]
     },
     "execution_count": 124,
     "metadata": {},
     "output_type": "execute_result"
    }
   ],
   "source": [
    "query_result=format_context(graph_db_op)\n",
    "query_result"
   ]
  },
  {
   "cell_type": "code",
   "execution_count": 129,
   "id": "a2aa2799",
   "metadata": {},
   "outputs": [],
   "source": [
    "## Creating system prompt for generating cyphers for Neo4jDB\n",
    "sys_prompt_teach = f\"\"\"You are an AI teaching chatbot specializing in math, physics, and chemistry topics to teach students from class 6 to class 12 and have to prepare curriculum based on the topics users feed you.\n",
    "Please note that the context is given by:\n",
    "{query_result}\n",
    "You will try to keep the language simple and give the best possible explanation to students to help them and make learning extremely fun.\n",
    "However, if the context of the conversation is insufficient, you will inform the user and specify the missing context.\n",
    "I repeat, if the context of the conversation is insufficient please inform the user and specify the missing context.\n",
    "\"\"\"\n",
    "#Do not provide any AQL queries that can't be deduced from AQL query examples. \n"
   ]
  },
  {
   "cell_type": "code",
   "execution_count": 131,
   "id": "d235a411",
   "metadata": {},
   "outputs": [],
   "source": [
    "# Passing conversation history\n",
    "genai.configure(api_key=Google_API_KEY) #passing the api key\n",
    "\n",
    "#Passing system_instruction\n",
    "model_teach=genai.GenerativeModel('gemini-1.5-pro-latest',system_instruction=[sys_prompt_teach]) # calling the gen model\n",
    "chat_teach= model_teach.start_chat(history=[\n",
    "    {\n",
    "        'role': 'user',\n",
    "        'parts':{ 'text': \"You are an AI teaching chatbot specializing in math, physics, and chemistry topics to teach students from class 6 to class 12 and have to prepare curriculum based on the topics users feed you\"      }\n",
    "    },\n",
    "    {\n",
    "        'role': 'model',\n",
    "        'parts': {\n",
    "         \n",
    "                'text': \"Understood. I will try my best to make concepts welcoming and simpler for students.\"\n",
    "            }\n",
    "        \n",
    "    }\n",
    "])\n",
    "\n"
   ]
  },
  {
   "cell_type": "code",
   "execution_count": 133,
   "id": "4f7d3bd5",
   "metadata": {},
   "outputs": [],
   "source": [
    "def get_chat_response_2(prompt: str): ## Note: combine the functions \n",
    "    text_response = []\n",
    "    responses = chat_teach.send_message(prompt, stream=False)\n",
    "    for chunk in responses:\n",
    "        text_response.append(chunk.text)\n",
    "    return \"\".join(text_response)\n",
    "\n",
    "user_input=\"Find all relationships for keyword 'quasi-static process'\"#\"What can you tell me about the 'quasi-static process'?\"\n",
    "response = get_chat_response_2(user_input)"
   ]
  },
  {
   "cell_type": "code",
   "execution_count": 135,
   "id": "1a193b0d",
   "metadata": {},
   "outputs": [
    {
     "data": {
      "text/markdown": [
       "> ## Quasi-Static Process: Understanding the Slow and Steady \n",
       "> \n",
       "> The term \"quasi-static process\" might sound complicated, but it's actually a simple concept with some important implications in thermodynamics. Let's explore the different relationships that define this process: \n",
       "> \n",
       "> **What it IS:** \n",
       "> \n",
       "> *   **Nearly static/Slow process:** Imagine a process happening super slowly, so slow that the system stays balanced with its surroundings throughout. It's like watching a snail race – very gradual changes! 🐌 \n",
       "> *   **Hypothetical construct/Idealization:** It's like a perfect scenario in our minds, used to approximate real processes under specific conditions. Think of it as a \"perfect world\" scenario for thermodynamics. \n",
       "> *   **Reversible process:** This means we can reverse the process, and the system will go back exactly the way it came, like rewinding a movie. ⏪\n",
       "> *   **Infinitesimal changes:** The system's properties (like pressure, temperature, and volume) change by tiny, tiny amounts at each step. 🤏\n",
       "> *   **Thermal and mechanical equilibrium:** The system stays balanced in terms of temperature and pressure with its surroundings throughout the process. ⚖️\n",
       "> *   **Specific type of process:** It's a special category of processes characterized by slow changes and no sudden movements or temperature jumps. \n",
       "> *   **Reversible thermodynamic process:** In the world of thermodynamics, a reversible process is basically the same as a quasi-static one.\n",
       "> \n",
       "> **What it REQUIRES:** \n",
       "> \n",
       "> *   **Equilibrium with surroundings:** At every point during the process, the system must be in balance with its surroundings. \n",
       "> \n",
       "> **What it EXCLUDES:** \n",
       "> \n",
       "> *   **Dissipative effects:** These are things like friction or heat loss to the surroundings, which are not present in a quasi-static process. \n",
       "> \n",
       "> **Relationships with other concepts:** \n",
       "> \n",
       "> *   **Work done (∆W):** In a quasi-static process, the work done is simply the pressure (P) multiplied by the change in volume (∆V). \n",
       "> *   **Pressure and Temperature differences:** The differences in pressure and temperature between the system and its surroundings are incredibly tiny, almost negligible.\n",
       "> *   **External pressure changes:** To change the system's state, we only need to make very small adjustments to the external pressure. \n",
       "> *   **Temperature changes:** To change the temperature in a quasi-static way, we use reservoirs with gradually different temperatures. 🌡️\n",
       "> \n",
       "> I hope this clarifies the concept of \"quasi-static process\" and its various relationships. Remember, it's all about slow and steady changes that keep the system in balance! If you have any further questions or want to delve deeper into specific aspects, feel free to ask! \n"
      ],
      "text/plain": [
       "<IPython.core.display.Markdown object>"
      ]
     },
     "execution_count": 135,
     "metadata": {},
     "output_type": "execute_result"
    }
   ],
   "source": [
    "to_markdown(response)"
   ]
  },
  {
   "cell_type": "markdown",
   "id": "a7606f87",
   "metadata": {},
   "source": [
    "## References\n",
    "\n",
    "1. https://cloud.google.com/vertex-ai/generative-ai/docs/multimodal/send-chat-prompts-gemini\n",
    "2.https://cloud.google.com/vertex-ai/generative-ai/docs/chat/chat-prompts\n",
    "3. https://www.googlecloudcommunity.com/gc/AI-ML/Gemini-Pro-Context-Option/m-p/684704/highlight/true#M4159\n",
    "4.https://www.kaggle.com/code/rahulsingh04/chat-with-resume\n"
   ]
  }
 ],
 "metadata": {
  "kernelspec": {
   "display_name": "Python 3 (ipykernel)",
   "language": "python",
   "name": "python3"
  },
  "language_info": {
   "codemirror_mode": {
    "name": "ipython",
    "version": 3
   },
   "file_extension": ".py",
   "mimetype": "text/x-python",
   "name": "python",
   "nbconvert_exporter": "python",
   "pygments_lexer": "ipython3",
   "version": "3.9.5"
  },
  "toc": {
   "base_numbering": 1,
   "nav_menu": {},
   "number_sections": true,
   "sideBar": true,
   "skip_h1_title": false,
   "title_cell": "Table of Contents",
   "title_sidebar": "Contents",
   "toc_cell": false,
   "toc_position": {},
   "toc_section_display": true,
   "toc_window_display": false
  },
  "varInspector": {
   "cols": {
    "lenName": 16,
    "lenType": 16,
    "lenVar": 40
   },
   "kernels_config": {
    "python": {
     "delete_cmd_postfix": "",
     "delete_cmd_prefix": "del ",
     "library": "var_list.py",
     "varRefreshCmd": "print(var_dic_list())"
    },
    "r": {
     "delete_cmd_postfix": ") ",
     "delete_cmd_prefix": "rm(",
     "library": "var_list.r",
     "varRefreshCmd": "cat(var_dic_list()) "
    }
   },
   "types_to_exclude": [
    "module",
    "function",
    "builtin_function_or_method",
    "instance",
    "_Feature"
   ],
   "window_display": false
  }
 },
 "nbformat": 4,
 "nbformat_minor": 5
}
